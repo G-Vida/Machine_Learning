{
  "nbformat": 4,
  "nbformat_minor": 0,
  "metadata": {
    "colab": {
      "provenance": [],
      "gpuType": "T4",
      "include_colab_link": true
    },
    "kernelspec": {
      "name": "python3",
      "display_name": "Python 3"
    },
    "widgets": {
      "application/vnd.jupyter.widget-state+json": {
        "39496ff7a4b4485fb37e68a2d1cb75f8": {
          "model_module": "@jupyter-widgets/controls",
          "model_name": "HBoxModel",
          "model_module_version": "1.5.0",
          "state": {
            "_dom_classes": [],
            "_model_module": "@jupyter-widgets/controls",
            "_model_module_version": "1.5.0",
            "_model_name": "HBoxModel",
            "_view_count": null,
            "_view_module": "@jupyter-widgets/controls",
            "_view_module_version": "1.5.0",
            "_view_name": "HBoxView",
            "box_style": "",
            "children": [
              "IPY_MODEL_7c73906b12fb4dd885efe8f59f5632d0",
              "IPY_MODEL_3178992e04a94e5495db1b463ea69f39",
              "IPY_MODEL_eb84202bf0c947ff8b044ed42966ddcf"
            ],
            "layout": "IPY_MODEL_b4c500c98fab4fa5b3a51247f22ea634"
          }
        },
        "7c73906b12fb4dd885efe8f59f5632d0": {
          "model_module": "@jupyter-widgets/controls",
          "model_name": "HTMLModel",
          "model_module_version": "1.5.0",
          "state": {
            "_dom_classes": [],
            "_model_module": "@jupyter-widgets/controls",
            "_model_module_version": "1.5.0",
            "_model_name": "HTMLModel",
            "_view_count": null,
            "_view_module": "@jupyter-widgets/controls",
            "_view_module_version": "1.5.0",
            "_view_name": "HTMLView",
            "description": "",
            "description_tooltip": null,
            "layout": "IPY_MODEL_7970871adedc4f3da6367f38a71ad3e8",
            "placeholder": "​",
            "style": "IPY_MODEL_510b5564fe5647189b527c0e7836ba1d",
            "value": "100%"
          }
        },
        "3178992e04a94e5495db1b463ea69f39": {
          "model_module": "@jupyter-widgets/controls",
          "model_name": "FloatProgressModel",
          "model_module_version": "1.5.0",
          "state": {
            "_dom_classes": [],
            "_model_module": "@jupyter-widgets/controls",
            "_model_module_version": "1.5.0",
            "_model_name": "FloatProgressModel",
            "_view_count": null,
            "_view_module": "@jupyter-widgets/controls",
            "_view_module_version": "1.5.0",
            "_view_name": "ProgressView",
            "bar_style": "success",
            "description": "",
            "description_tooltip": null,
            "layout": "IPY_MODEL_b7037cbebc4c4157a45f42be2337b0f7",
            "max": 20,
            "min": 0,
            "orientation": "horizontal",
            "style": "IPY_MODEL_eb8abee4d31849b485d594ad21716e3e",
            "value": 20
          }
        },
        "eb84202bf0c947ff8b044ed42966ddcf": {
          "model_module": "@jupyter-widgets/controls",
          "model_name": "HTMLModel",
          "model_module_version": "1.5.0",
          "state": {
            "_dom_classes": [],
            "_model_module": "@jupyter-widgets/controls",
            "_model_module_version": "1.5.0",
            "_model_name": "HTMLModel",
            "_view_count": null,
            "_view_module": "@jupyter-widgets/controls",
            "_view_module_version": "1.5.0",
            "_view_name": "HTMLView",
            "description": "",
            "description_tooltip": null,
            "layout": "IPY_MODEL_86029d368a2c4cccb81524914d1aca77",
            "placeholder": "​",
            "style": "IPY_MODEL_11f467df100b431fa05a5f4c29a7a406",
            "value": " 20/20 [00:02&lt;00:00,  9.87it/s]"
          }
        },
        "b4c500c98fab4fa5b3a51247f22ea634": {
          "model_module": "@jupyter-widgets/base",
          "model_name": "LayoutModel",
          "model_module_version": "1.2.0",
          "state": {
            "_model_module": "@jupyter-widgets/base",
            "_model_module_version": "1.2.0",
            "_model_name": "LayoutModel",
            "_view_count": null,
            "_view_module": "@jupyter-widgets/base",
            "_view_module_version": "1.2.0",
            "_view_name": "LayoutView",
            "align_content": null,
            "align_items": null,
            "align_self": null,
            "border": null,
            "bottom": null,
            "display": null,
            "flex": null,
            "flex_flow": null,
            "grid_area": null,
            "grid_auto_columns": null,
            "grid_auto_flow": null,
            "grid_auto_rows": null,
            "grid_column": null,
            "grid_gap": null,
            "grid_row": null,
            "grid_template_areas": null,
            "grid_template_columns": null,
            "grid_template_rows": null,
            "height": null,
            "justify_content": null,
            "justify_items": null,
            "left": null,
            "margin": null,
            "max_height": null,
            "max_width": null,
            "min_height": null,
            "min_width": null,
            "object_fit": null,
            "object_position": null,
            "order": null,
            "overflow": null,
            "overflow_x": null,
            "overflow_y": null,
            "padding": null,
            "right": null,
            "top": null,
            "visibility": null,
            "width": null
          }
        },
        "7970871adedc4f3da6367f38a71ad3e8": {
          "model_module": "@jupyter-widgets/base",
          "model_name": "LayoutModel",
          "model_module_version": "1.2.0",
          "state": {
            "_model_module": "@jupyter-widgets/base",
            "_model_module_version": "1.2.0",
            "_model_name": "LayoutModel",
            "_view_count": null,
            "_view_module": "@jupyter-widgets/base",
            "_view_module_version": "1.2.0",
            "_view_name": "LayoutView",
            "align_content": null,
            "align_items": null,
            "align_self": null,
            "border": null,
            "bottom": null,
            "display": null,
            "flex": null,
            "flex_flow": null,
            "grid_area": null,
            "grid_auto_columns": null,
            "grid_auto_flow": null,
            "grid_auto_rows": null,
            "grid_column": null,
            "grid_gap": null,
            "grid_row": null,
            "grid_template_areas": null,
            "grid_template_columns": null,
            "grid_template_rows": null,
            "height": null,
            "justify_content": null,
            "justify_items": null,
            "left": null,
            "margin": null,
            "max_height": null,
            "max_width": null,
            "min_height": null,
            "min_width": null,
            "object_fit": null,
            "object_position": null,
            "order": null,
            "overflow": null,
            "overflow_x": null,
            "overflow_y": null,
            "padding": null,
            "right": null,
            "top": null,
            "visibility": null,
            "width": null
          }
        },
        "510b5564fe5647189b527c0e7836ba1d": {
          "model_module": "@jupyter-widgets/controls",
          "model_name": "DescriptionStyleModel",
          "model_module_version": "1.5.0",
          "state": {
            "_model_module": "@jupyter-widgets/controls",
            "_model_module_version": "1.5.0",
            "_model_name": "DescriptionStyleModel",
            "_view_count": null,
            "_view_module": "@jupyter-widgets/base",
            "_view_module_version": "1.2.0",
            "_view_name": "StyleView",
            "description_width": ""
          }
        },
        "b7037cbebc4c4157a45f42be2337b0f7": {
          "model_module": "@jupyter-widgets/base",
          "model_name": "LayoutModel",
          "model_module_version": "1.2.0",
          "state": {
            "_model_module": "@jupyter-widgets/base",
            "_model_module_version": "1.2.0",
            "_model_name": "LayoutModel",
            "_view_count": null,
            "_view_module": "@jupyter-widgets/base",
            "_view_module_version": "1.2.0",
            "_view_name": "LayoutView",
            "align_content": null,
            "align_items": null,
            "align_self": null,
            "border": null,
            "bottom": null,
            "display": null,
            "flex": null,
            "flex_flow": null,
            "grid_area": null,
            "grid_auto_columns": null,
            "grid_auto_flow": null,
            "grid_auto_rows": null,
            "grid_column": null,
            "grid_gap": null,
            "grid_row": null,
            "grid_template_areas": null,
            "grid_template_columns": null,
            "grid_template_rows": null,
            "height": null,
            "justify_content": null,
            "justify_items": null,
            "left": null,
            "margin": null,
            "max_height": null,
            "max_width": null,
            "min_height": null,
            "min_width": null,
            "object_fit": null,
            "object_position": null,
            "order": null,
            "overflow": null,
            "overflow_x": null,
            "overflow_y": null,
            "padding": null,
            "right": null,
            "top": null,
            "visibility": null,
            "width": null
          }
        },
        "eb8abee4d31849b485d594ad21716e3e": {
          "model_module": "@jupyter-widgets/controls",
          "model_name": "ProgressStyleModel",
          "model_module_version": "1.5.0",
          "state": {
            "_model_module": "@jupyter-widgets/controls",
            "_model_module_version": "1.5.0",
            "_model_name": "ProgressStyleModel",
            "_view_count": null,
            "_view_module": "@jupyter-widgets/base",
            "_view_module_version": "1.2.0",
            "_view_name": "StyleView",
            "bar_color": null,
            "description_width": ""
          }
        },
        "86029d368a2c4cccb81524914d1aca77": {
          "model_module": "@jupyter-widgets/base",
          "model_name": "LayoutModel",
          "model_module_version": "1.2.0",
          "state": {
            "_model_module": "@jupyter-widgets/base",
            "_model_module_version": "1.2.0",
            "_model_name": "LayoutModel",
            "_view_count": null,
            "_view_module": "@jupyter-widgets/base",
            "_view_module_version": "1.2.0",
            "_view_name": "LayoutView",
            "align_content": null,
            "align_items": null,
            "align_self": null,
            "border": null,
            "bottom": null,
            "display": null,
            "flex": null,
            "flex_flow": null,
            "grid_area": null,
            "grid_auto_columns": null,
            "grid_auto_flow": null,
            "grid_auto_rows": null,
            "grid_column": null,
            "grid_gap": null,
            "grid_row": null,
            "grid_template_areas": null,
            "grid_template_columns": null,
            "grid_template_rows": null,
            "height": null,
            "justify_content": null,
            "justify_items": null,
            "left": null,
            "margin": null,
            "max_height": null,
            "max_width": null,
            "min_height": null,
            "min_width": null,
            "object_fit": null,
            "object_position": null,
            "order": null,
            "overflow": null,
            "overflow_x": null,
            "overflow_y": null,
            "padding": null,
            "right": null,
            "top": null,
            "visibility": null,
            "width": null
          }
        },
        "11f467df100b431fa05a5f4c29a7a406": {
          "model_module": "@jupyter-widgets/controls",
          "model_name": "DescriptionStyleModel",
          "model_module_version": "1.5.0",
          "state": {
            "_model_module": "@jupyter-widgets/controls",
            "_model_module_version": "1.5.0",
            "_model_name": "DescriptionStyleModel",
            "_view_count": null,
            "_view_module": "@jupyter-widgets/base",
            "_view_module_version": "1.2.0",
            "_view_name": "StyleView",
            "description_width": ""
          }
        }
      }
    }
  },
  "cells": [
    {
      "cell_type": "markdown",
      "metadata": {
        "id": "view-in-github",
        "colab_type": "text"
      },
      "source": [
        "<a href=\"https://colab.research.google.com/github/G-Vida/Machine_Learning/blob/main/Copia_di_Esercitazione_Datasets.ipynb\" target=\"_parent\"><img src=\"https://colab.research.google.com/assets/colab-badge.svg\" alt=\"Open In Colab\"/></a>"
      ]
    },
    {
      "cell_type": "markdown",
      "metadata": {
        "id": "4C5Ct9yoZKYa"
      },
      "source": [
        "# MLME: Datasets, dataloaders, augmentations\n",
        "\n",
        "\n"
      ]
    },
    {
      "cell_type": "markdown",
      "source": [
        "## 0 Table of contents\n",
        "We're going to look at the PyTorch Workflow we've been learning and look at the data preparation steps.\n",
        "\n",
        "![a PyTorch workflow with a computer vision focus](https://raw.githubusercontent.com/mrdbourke/pytorch-deep-learning/main/images/03-pytorch-computer-vision-workflow.png)\n",
        "\n",
        "Specifically, we're going to cover:\n",
        "\n",
        "| **Topic** | **Contents** |\n",
        "| ----- | ----- |\n",
        "| **0. PyTorch Dataset** | How do we get and prepare the data to train and evaluate our models? To practice computer vision, we'll start with some images of different pieces of clothing from [FashionMNIST](https://github.com/zalandoresearch/fashion-mnist). |\n",
        "| **1. Data visualization** | Once we have our dataset, we will try to visualize some data samples. Never forget to look at the data you have before starting to use it. |\n",
        "| **2. PyTorch Dataloader** | With the dataset up and running, we will then see how we can get samples from it to train and test our models. We will use what a DataLoader |\n",
        "| **3. Creating a custom Dataset** | \"But I do not want to use a pre-loaded dataset, I wnat my custom dataset\". Do not worry, we will look at how to create a custom dataset from the data. |\n",
        "| **4. Loading data from a Google Drive** | Speaking of custom datasets, we will also look at how to import data stored in our Google Drive to a Colab.|\n",
        "| **5. Data transformations** | An important part of the data preparation pipeline, is data pre-processing. We are going to look at how we can pre-process our data with several transformations. |"
      ],
      "metadata": {
        "id": "9Yud9FriQJmy"
      }
    },
    {
      "cell_type": "markdown",
      "source": [
        "## 1 Useful resources and credits.\n",
        "Official PyTorch tutorials:\n",
        "- https://pytorch.org/tutorials/beginner/basics/data_tutorial.html\n",
        "- https://pytorch.org/tutorials/beginner/basics/transforms_tutorial.html\n",
        "\n",
        "PyTorch Documentation\n",
        "- https://pytorch.org/docs/stable/index.html\n",
        "\n",
        "The material in this lecture draws from:\n",
        "- exercises from E. Rodolà [classes](https://erodola.github.io/DLAI-s2-2024/)\n",
        "- [Zero to Mastery Learn PyTorch for Deep Learning pt.3](https://www.learnpytorch.io/03_pytorch_computer_vision/)\n",
        "- [Zero to Mastery Learn PyTorch for Deep Learning pt.4](https://www.learnpytorch.io/04_pytorch_custom_datasets/)"
      ],
      "metadata": {
        "id": "h-VFzRQvQLXO"
      }
    },
    {
      "cell_type": "markdown",
      "source": [
        "## 2 How to run this notebook?\n",
        "This notebook is *view only* and uses Google Colab to run. To **run this Colab notebook**, either:\n",
        "\n",
        "- **Make a copy to your Google Drive so you can make local changes:** File > Save a copy in Drive...\n",
        "\n",
        "- **Run in playground mode:** File > Open in playground mode\n",
        "- **Download the Jupyter notebook, so you can run it on your computer configured with Jupyter:** File > Download .ipynb"
      ],
      "metadata": {
        "id": "qVUuOaypDDYR"
      }
    },
    {
      "cell_type": "markdown",
      "source": [
        "## 3 Preliminaries"
      ],
      "metadata": {
        "id": "GHKiAWxOGLb1"
      }
    },
    {
      "cell_type": "markdown",
      "source": [
        "### 3.1 Important PyTorch libraries\n",
        "\n",
        "Before we get started writing code, let's talk about some PyTorch computer vision libraries you should be aware of.\n",
        "\n",
        "| PyTorch module | What does it do? |\n",
        "| ----- | ----- |\n",
        "| [`torchvision`](https://pytorch.org/vision/stable/index.html) | Contains datasets, model architectures and image transformations often used for computer vision problems. |\n",
        "| [`torchvision.datasets`](https://pytorch.org/vision/stable/datasets.html) | Here you'll find many example computer vision datasets for a range of problems from image classification, object detection, image captioning, video classification and more. It also contains [a series of base classes for making custom datasets](https://pytorch.org/vision/stable/datasets.html#base-classes-for-custom-datasets). |\n",
        "| [`torchvision.transforms`](https://pytorch.org/vision/stable/transforms.html) | Often images need to be transformed (turned into numbers/processed/augmented) before being used with a model, common image transformations are found here. |\n",
        "| [`torch.utils.data.Dataset`](https://pytorch.org/docs/stable/data.html#torch.utils.data.Dataset) | Base dataset class for PyTorch.  |\n",
        "| [`torch.utils.data.DataLoader`](https://pytorch.org/docs/stable/data.html#module-torch.utils.data) | Creates a Python iterable over a dataset (created with `torch.utils.data.Dataset`). |\n",
        "\n",
        "> **Note:** The `torch.utils.data.Dataset` and `torch.utils.data.DataLoader` classes aren't only for computer vision in PyTorch, they are capable of dealing with many different types of data."
      ],
      "metadata": {
        "id": "IKJxgNrDQkW6"
      }
    },
    {
      "cell_type": "markdown",
      "source": [
        "### 3.2 Visualization tools\n",
        "In this notebook we will use both **Matplotlib** and another plotting library, called **[Plotly](https://pyviz.org/overviews/index.html)**.\n",
        "Effectively communicating your findings through plots and visualizations is an essential part of any scientific or engineering project.\n",
        "\n",
        "\n",
        "Plotly is a modern library that makes interactive plots very easy to produce, and is very popular also outside of the DL community.\n",
        "[Here](https://plot.ly/python/) you can find its documentation."
      ],
      "metadata": {
        "id": "0fIp-c4KQmVz"
      }
    },
    {
      "cell_type": "markdown",
      "source": [
        "Now that we've covered some of the most important PyTorch computer vision libraries, let's import the relevant dependencies."
      ],
      "metadata": {
        "id": "FlpuPxnDQoPb"
      }
    },
    {
      "cell_type": "code",
      "metadata": {
        "id": "pRePt-K1_yw9"
      },
      "source": [
        "import torch\n",
        "from torch.utils.data import Dataset     # we import the dataset\n",
        "from torchvision import datasets\n",
        "from torchvision.transforms import ToTensor\n",
        "import matplotlib.pyplot as plt\n",
        "\n",
        "\n",
        "import numpy as np\n",
        "import plotly.express as px\n",
        "from plotly.subplots import make_subplots\n",
        "import plotly.graph_objects as go"
      ],
      "execution_count": 3,
      "outputs": []
    },
    {
      "cell_type": "markdown",
      "metadata": {
        "id": "Tvpx3YbdcKlK"
      },
      "source": [
        "## 4 Loading a Dataset\n",
        "\n",
        "In all learning problems, we have to deal with data. Data preparation is a fundamental step before building a model.\n",
        "\n",
        "As Abraham Lossfunction said...\n",
        "\n",
        "<img src=\"https://raw.githubusercontent.com/mrdbourke/pytorch-deep-learning/main/images/04-abraham-lossfunction.png\" alt=\"tweet by mrdbourke, if I had eight hours to build a machine learning model, I'd spend the first 6 hours preparing my dataset\" width=800/>\n",
        "\n",
        "So let's make sure we prepare our data the best possible way!\n",
        "In PyTorch (and other common frameworks) you can decouple the code that *manages* the data from the code that *uses* the data.\n",
        "\n",
        "This produces simpler and more understandable code, and enables the possibility to re-use the same dataset with different models or the same model with different datasets.\n",
        "In the following sections, we will have a glimpse into how to manage the data pipeline.\n",
        "\n",
        "To handle data, PyTorch provides [`torch.utils.data.Dataset`](https://pytorch.org/docs/stable/data.html?highlight=dataset#torch.utils.data.Dataset). The PyTorch `Dataset` class that represents a data collection and stores the samples and their corresponding labels.\n",
        "PyTorch domain libraries provide a number of pre-loaded datasets for tasks related to [computer vision](https://pytorch.org/vision/stable/datasets.html), [audio](https://pytorch.org/audio/stable/datasets.html), [text](https://pytorch.org/text/stable/datasets.html) and even [GeoAI](https://torchgeo.readthedocs.io/en/latest/api/datasets.html)."
      ]
    },
    {
      "cell_type": "markdown",
      "source": [
        "### 4.1 Load FashinMNIST\n",
        "We're going to start with a computer vision dataset: [**FashionMNIST**](https://pytorch.org/vision/stable/generated/torchvision.datasets.FashionMNIST.html#torchvision.datasets.FashionMNIST).\n",
        "\n",
        "MNIST stands for Modified National Institute of Standards and Technology.\n",
        "\n",
        "The [original MNIST dataset](https://en.wikipedia.org/wiki/MNIST_database) contains thousands of examples of handwritten digits (from 0 to 9) and was used to build computer vision models to identify numbers for postal services.\n",
        "\n",
        "[FashionMNIST](https://github.com/zalandoresearch/fashion-mnist), made by Zalando Research, is a similar setup.\n",
        "\n",
        "Except it contains grayscale images of 10 different kinds of clothing.\n",
        "\n",
        "![example image of FashionMNIST](https://raw.githubusercontent.com/mrdbourke/pytorch-deep-learning/main/images/03-fashion-mnist-slide.png)\n",
        "*`torchvision.datasets` contains a lot of example datasets you can use to practice writing computer vision code on. FashionMNIST is one of those datasets. And since it has 10 different image classes (different types of clothing), it's a multi-class classification problem.*\n",
        "\n",
        "\n",
        "To download it, we provide the following parameters:\n",
        "* `root: str` - which folder do you want to download the data to?\n",
        "* `train: Bool` - do you want the training or test split?\n",
        "* `download: Bool` - should the data be downloaded?\n",
        "* `transform: torchvision.transforms` - what transformations would you like to do on the data? (**We will discuss transformations later**)\n",
        "* `target_transform` - you can transform the targets (labels) if you like too (**We will discuss transformations later**).\n",
        "\n",
        "Many other datasets in `torchvision` have these parameter options."
      ],
      "metadata": {
        "id": "fo29REaqL2t1"
      }
    },
    {
      "cell_type": "markdown",
      "source": [
        "We have many different separated immages with different clothes => we have to understand which kind of clothing item is it!!!\n"
      ],
      "metadata": {
        "id": "6eKuHeUeIw8x"
      }
    },
    {
      "cell_type": "code",
      "source": [
        "# Setup training data\n",
        "train_data = datasets.FashionMNIST(      # we pass the datasets\n",
        "    root=\"data\",    # where we want to download data\n",
        "    train=True,    # we need both a training or a test set => train = False will give the test data instead\n",
        "    download=True,    # we want to download it\n",
        "    transform=ToTensor()    # We apply it at each immage we are downloading\n",
        ")\n",
        "\n",
        "# Setup test data\n",
        "test_data = datasets.FashionMNIST(\n",
        "    root=\"data\",\n",
        "    train=False,\n",
        "    download=True,\n",
        "    transform=ToTensor()\n",
        ")"
      ],
      "metadata": {
        "id": "5NOjyeo7puf0",
        "colab": {
          "base_uri": "https://localhost:8080/"
        },
        "outputId": "c2458596-840f-42b9-b662-55ab27df03fe"
      },
      "execution_count": 4,
      "outputs": [
        {
          "output_type": "stream",
          "name": "stderr",
          "text": [
            "100%|██████████| 26.4M/26.4M [00:02<00:00, 12.7MB/s]\n",
            "100%|██████████| 29.5k/29.5k [00:00<00:00, 199kB/s]\n",
            "100%|██████████| 4.42M/4.42M [00:01<00:00, 3.76MB/s]\n",
            "100%|██████████| 5.15k/5.15k [00:00<00:00, 8.39MB/s]\n"
          ]
        }
      ]
    },
    {
      "cell_type": "markdown",
      "source": [
        "Let's check what is our training data"
      ],
      "metadata": {
        "id": "xG4yAEd2MzTV"
      }
    },
    {
      "cell_type": "code",
      "source": [
        "# What's train_data? What is one sample?\n",
        "print(f\"train_data is:\\n{train_data}\\n\")\n",
        "print(f\"A single sample from train data is: {type(train_data[0])}\")\n",
        "\n",
        "# Let's check the first training sample\n",
        "image, label = train_data[0]\n"
      ],
      "metadata": {
        "id": "h10zfXonM2pt",
        "colab": {
          "base_uri": "https://localhost:8080/"
        },
        "outputId": "e4bcb1c1-4555-49c6-9298-3b291b2abc54"
      },
      "execution_count": 5,
      "outputs": [
        {
          "output_type": "stream",
          "name": "stdout",
          "text": [
            "train_data is:\n",
            "Dataset FashionMNIST\n",
            "    Number of datapoints: 60000\n",
            "    Root location: data\n",
            "    Split: Train\n",
            "    StandardTransform\n",
            "Transform: ToTensor()\n",
            "\n",
            "A single sample from train data is: <class 'tuple'>\n"
          ]
        }
      ]
    },
    {
      "cell_type": "markdown",
      "source": [
        "We've got a big tensor of values (the image) leading to a single value for the target (the label).\n",
        "\n",
        "Let's see the image shape."
      ],
      "metadata": {
        "id": "HVJ9tYjEO3uE"
      }
    },
    {
      "cell_type": "code",
      "source": [
        "# What's the shape of the image?\n",
        "image.shape"
      ],
      "metadata": {
        "id": "mp25b2qzO8pz",
        "colab": {
          "base_uri": "https://localhost:8080/"
        },
        "outputId": "441a8b22-eaa3-4e8b-830c-51adb9fa58aa"
      },
      "execution_count": 6,
      "outputs": [
        {
          "output_type": "execute_result",
          "data": {
            "text/plain": [
              "torch.Size([1, 28, 28])"
            ]
          },
          "metadata": {},
          "execution_count": 6
        }
      ]
    },
    {
      "cell_type": "markdown",
      "source": [
        "The shape of the image tensor is `[1, 28, 28]` or more specifically:\n",
        "\n",
        "```\n",
        "[color_channels=1, height=28, width=28]     \n",
        "```\n",
        "\n",
        "Having `color_channels=1` means the image is grayscale. With RGB we consider 3 dimensions.\n",
        "\n",
        "![example input and output shapes of the fashionMNIST problem](https://raw.githubusercontent.com/mrdbourke/pytorch-deep-learning/main/images/03-computer-vision-input-and-output-shapes.png)\n",
        "*Various problems will have various input and output shapes. But the premise remains: encode data into numbers, build a model to find patterns in those numbers, convert those patterns into something meaningful.*\n",
        "\n",
        "If `color_channels=3`, the image comes in pixel values for red, green and blue (this is also known as the [RGB color model](https://en.wikipedia.org/wiki/RGB_color_model)).\n",
        "\n",
        "The order of our current tensor is often referred to as `CHW` (Color Channels, Height, Width).\n",
        "\n",
        "There's debate on whether images should be represented as `CHW` (color channels first) or `HWC` (color channels last).\n",
        "\n",
        "> **Note:** You'll also see `NCHW` and `NHWC` formats where `N` stands for *number of images*. For example if you have a `batch_size=32`, your tensor shape may be `[32, 1, 28, 28]`. We'll cover batch sizes later.\n",
        "\n",
        "PyTorch generally accepts `NCHW` (channels first) as the default for many operators.\n",
        "\n",
        "However, PyTorch also explains that `NHWC` (channels last) performs better and is [considered best practice](https://pytorch.org/blog/tensor-memory-format-matters/#pytorch-best-practice).\n",
        "\n",
        "Let's check out more shapes of our data."
      ],
      "metadata": {
        "id": "SIPKXst2PCd-"
      }
    },
    {
      "cell_type": "code",
      "source": [
        "# How many samples are there?\n",
        "len(train_data.data), len(train_data.targets), len(test_data.data), len(test_data.targets)"
      ],
      "metadata": {
        "id": "c-hOPFwxPS8E",
        "colab": {
          "base_uri": "https://localhost:8080/"
        },
        "outputId": "96adb4bd-f77b-4c5e-97e5-b19f70b71fb2"
      },
      "execution_count": 7,
      "outputs": [
        {
          "output_type": "execute_result",
          "data": {
            "text/plain": [
              "(60000, 60000, 10000, 10000)"
            ]
          },
          "metadata": {},
          "execution_count": 7
        }
      ]
    },
    {
      "cell_type": "markdown",
      "source": [
        "So we've got 60,000 training samples and 10,000 testing samples.\n",
        "\n",
        "What classes are there?\n",
        "\n",
        "We can find these via the `.classes` attribute."
      ],
      "metadata": {
        "id": "n3d2f9BkPWvm"
      }
    },
    {
      "cell_type": "code",
      "source": [
        "# See classes\n",
        "class_names = train_data.classes\n",
        "class_names"
      ],
      "metadata": {
        "id": "hfS7iuJRPXjs",
        "colab": {
          "base_uri": "https://localhost:8080/"
        },
        "outputId": "fa9288ae-0c86-4331-8708-b0c8634d5819"
      },
      "execution_count": 8,
      "outputs": [
        {
          "output_type": "execute_result",
          "data": {
            "text/plain": [
              "['T-shirt/top',\n",
              " 'Trouser',\n",
              " 'Pullover',\n",
              " 'Dress',\n",
              " 'Coat',\n",
              " 'Sandal',\n",
              " 'Shirt',\n",
              " 'Sneaker',\n",
              " 'Bag',\n",
              " 'Ankle boot']"
            ]
          },
          "metadata": {},
          "execution_count": 8
        }
      ]
    },
    {
      "cell_type": "markdown",
      "source": [
        "Sweet! It looks like we're dealing with 10 different kinds of clothes.\n",
        "\n",
        "Because we're working with 10 different classes, it means our problem is **multi-class classification**.\n",
        "\n",
        "Let's get visual."
      ],
      "metadata": {
        "id": "0TIN5EiSPkkb"
      }
    },
    {
      "cell_type": "markdown",
      "source": [
        "### 4.2 Visualizing the data\n",
        "Checking the number of loaded samples, their shapes and labels is important. But, since we are dealing with images, we should also look at them, to understand the kind of data we are dealing with. Since the samples are images, it is straightforward to visualize them: we just need to show the images. For other datatypes, we may decide to use different kinds of plots."
      ],
      "metadata": {
        "id": "QOMn6jsz5c_F"
      }
    },
    {
      "cell_type": "code",
      "source": [
        "import matplotlib.pyplot as plt\n",
        "image, label = train_data[0]\n",
        "print(f\"Image shape: {image.shape}\")\n",
        "plt.imshow(image.squeeze()) # image shape is [1, 28, 28] (colour channels, height, width)\n",
        "plt.title(label);\n",
        "\n",
        "### If we don't define the colormap => it will automatically use a map."
      ],
      "metadata": {
        "id": "lw1dkE6rRdWk",
        "colab": {
          "base_uri": "https://localhost:8080/",
          "height": 470
        },
        "outputId": "f2022a6e-7ad7-433e-b1ab-d4ad7241ddea"
      },
      "execution_count": 9,
      "outputs": [
        {
          "output_type": "stream",
          "name": "stdout",
          "text": [
            "Image shape: torch.Size([1, 28, 28])\n"
          ]
        },
        {
          "output_type": "display_data",
          "data": {
            "text/plain": [
              "<Figure size 640x480 with 1 Axes>"
            ],
            "image/png": "[encoded data removed]"
          },
          "metadata": {}
        }
      ]
    },
    {
      "cell_type": "markdown",
      "source": [
        "We can turn the image into grayscale using the cmap parameter of plt.imshow()."
      ],
      "metadata": {
        "id": "gjbC39y1Rhmd"
      }
    },
    {
      "cell_type": "code",
      "source": [
        "plt.imshow(image.squeeze(), cmap=\"gray\")     # we can show the immage with imshow\n",
        "plt.title(class_names[label]);"
      ],
      "metadata": {
        "id": "VNBTVN2kRkC-",
        "colab": {
          "base_uri": "https://localhost:8080/",
          "height": 452
        },
        "outputId": "5b9999ad-72a0-4eff-b3d5-887ec59e0dca"
      },
      "execution_count": 10,
      "outputs": [
        {
          "output_type": "display_data",
          "data": {
            "text/plain": [
              "<Figure size 640x480 with 1 Axes>"
            ],
            "image/png": "[encoded data removed]"
          },
          "metadata": {}
        }
      ]
    },
    {
      "cell_type": "markdown",
      "source": [
        "Beautiful, well as beautiful as a pixelated grayscale ankle boot can get.\n",
        "\n",
        "Let's view a few more."
      ],
      "metadata": {
        "id": "-jJ2_12YRq4u"
      }
    },
    {
      "cell_type": "code",
      "source": [
        "# Plot more images\n",
        "torch.manual_seed(42)\n",
        "fig = plt.figure(figsize=(9, 9))\n",
        "rows, cols = 4, 4\n",
        "for i in range(1, rows * cols + 1):\n",
        "    random_idx = torch.randint(0, len(train_data), size=[1]).item()\n",
        "    img, label = train_data[random_idx]\n",
        "    fig.add_subplot(rows, cols, i)\n",
        "    plt.imshow(img.squeeze(), cmap=\"gray\")\n",
        "    plt.title(class_names[label])\n",
        "    plt.axis(False);"
      ],
      "metadata": {
        "id": "8om5OCZo8G2_",
        "colab": {
          "base_uri": "https://localhost:8080/",
          "height": 706
        },
        "outputId": "0b1d9dcc-fced-4d92-e159-c26f767f86fd"
      },
      "execution_count": 11,
      "outputs": [
        {
          "output_type": "display_data",
          "data": {
            "text/plain": [
              "<Figure size 900x900 with 16 Axes>"
            ],
            "image/png": "[encoded data removed]"
          },
          "metadata": {}
        }
      ]
    },
    {
      "cell_type": "markdown",
      "source": [
        "Hmmm, this dataset doesn't look too aesthetic.\n",
        "\n",
        "But the principles we're going to learn on how to build a model for it will be similar across a wide range of computer vision problems.\n",
        "\n",
        "In essence, taking pixel values and building a model to find patterns in them to use on future pixel values.\n",
        "\n",
        "Plus, even for this small dataset (yes, even 60,000 images in deep learning is considered quite small), could you write a program to classify each one of them?\n",
        "\n",
        "You probably could."
      ],
      "metadata": {
        "id": "8K4LQ0qcSEMS"
      }
    },
    {
      "cell_type": "markdown",
      "source": [
        "## 5 📓 Exercise: load a dataset from PyTorch\n",
        "Try to do the same thing, and load a different dataset from the ones [pre-loaded in PyTorch](https://pytorch.org/vision/stable/datasets.html). For example, try with the [**FGVCAircraft**](https://pytorch.org/vision/stable/generated/torchvision.datasets.FGVCAircraft.html#torchvision.datasets.FGVCAircraft) dataset.\n",
        "\n",
        "Be mindful of the parameters this class expects. Check the documentation!\n",
        "```\n",
        "class torchvision.datasets.FGVCAircraft(root: Union[str, Path], split: str = 'trainval', annotation_level: str = 'variant', transform: Optional[Callable] = None, target_transform: Optional[Callable] = None, download: bool = False)\n",
        "```"
      ],
      "metadata": {
        "id": "3zRvRUaD8Z4s"
      }
    },
    {
      "cell_type": "code",
      "source": [
        "# try to load the FGVCAircraft dataset."
      ],
      "metadata": {
        "id": "XQibBwrFQ0rX"
      },
      "execution_count": 12,
      "outputs": []
    },
    {
      "cell_type": "code",
      "source": [
        "# @title Solution\n",
        "train_data = datasets.FGVCAircraft(\n",
        "    root=\"data\",\n",
        "    split=\"train\",\n",
        "    download=True,\n",
        "    transform=ToTensor()\n",
        ")\n",
        "\n",
        "print(train_data)\n",
        "img, label = train_data[100]\n",
        "print(img.shape)\n",
        "print(label)\n",
        "class_names = train_data.classes\n",
        "plt.title(class_names[label])\n",
        "# Note: permute() will change shape of image to suit matplotlib\n",
        "# (PyTorch default is [C, H, W] but Matplotlib is [H, W, C])\n",
        "plt.imshow(img.permute(1,2,0))"
      ],
      "metadata": {
        "id": "Q8ZGiJ_98wHK",
        "colab": {
          "base_uri": "https://localhost:8080/",
          "height": 585
        },
        "collapsed": true,
        "outputId": "8b49dee0-597b-427f-96fe-f9e7eb9c4c00"
      },
      "execution_count": 12,
      "outputs": [
        {
          "output_type": "stream",
          "name": "stderr",
          "text": [
            "100%|██████████| 2.75G/2.75G [02:30<00:00, 18.3MB/s]\n"
          ]
        },
        {
          "output_type": "stream",
          "name": "stdout",
          "text": [
            "Dataset FGVCAircraft\n",
            "    Number of datapoints: 3334\n",
            "    Root location: data\n",
            "    StandardTransform\n",
            "Transform: ToTensor()\n",
            "torch.Size([3, 762, 1100])\n",
            "3\n"
          ]
        },
        {
          "output_type": "execute_result",
          "data": {
            "text/plain": [
              "<matplotlib.image.AxesImage at 0x78f4dd9a6dd0>"
            ]
          },
          "metadata": {},
          "execution_count": 12
        },
        {
          "output_type": "display_data",
          "data": {
            "text/plain": [
              "<Figure size 640x480 with 1 Axes>"
            ],
            "image/png": "[encoded data removed]"
          },
          "metadata": {}
        }
      ]
    },
    {
      "cell_type": "markdown",
      "source": [
        "Always check if the dataset is already on TORCHVISION LIBRARY!"
      ],
      "metadata": {
        "id": "0xPep88UdlhT"
      }
    },
    {
      "cell_type": "markdown",
      "source": [
        "## 6 Prepare a DataLoader\n",
        "\n",
        "Now we've got a dataset ready to go.\n",
        "\n",
        "The next step is to prepare it with a [`torch.utils.data.DataLoader`](https://pytorch.org/docs/stable/data.html#torch.utils.data.Dataset) or `DataLoader` for short.\n",
        "The `DataLoader` does what you think it might do.\n",
        "It helps load data into a model, both for training and for inference.\n",
        "It turns a large `Dataset` into a Python iterable of smaller chunks.\n",
        "These smaller chunks are called **batches** or **mini-batches** and can be set by the `batch_size` parameter.\n",
        "\n",
        "*Why do this?*\n",
        "\n",
        "Because it's more computationally efficient.\n",
        "In an ideal world you could do the forward pass and backward pass across all of your data at once.\n",
        "But once you start using really large datasets, unless you've got infinite computing power, it's easier to break them up into batches.\n",
        "\n",
        "There are also motivations related to how the model are optimized using algorithms such as stochastic gradient descent\n",
        "\n",
        "\n",
        "*What's a good batch size?*\n",
        "\n",
        "It largely depends on the memory available on the GPU.\n",
        "But since this is a value you can set (a **hyperparameter**) you can try all different kinds of values, though generally powers of 2 are used most often (e.g. 32, 64, 128, 256, 512).\n",
        "\n",
        "![an example of what a batched dataset looks like](https://raw.githubusercontent.com/mrdbourke/pytorch-deep-learning/main/images/03-batching-fashionmnist.png)\n",
        "*Batching FashionMNIST with a batch size of 32 and shuffle turned on. A similar batching process will occur for other datasets but will differ depending on the batch size.*\n"
      ],
      "metadata": {
        "id": "tK9-_rZIT_Vi"
      }
    },
    {
      "cell_type": "markdown",
      "source": [
        "A DATA LOADER is under toch utils => something that helps us/makes our life easier. <br>\n",
        "We don't want for each epoch to code that now I want to load 10 immages and pass to the model => the Dataloader will do that for us. <br>\n",
        "We can have a BATCH SIZE (we put 10 immages all togehter and pass them to the model), DATA SHUFFLING (important otherwise the model might sometimes predicts/follow the order of ur data => otherwise it might learn the sequence of our data and things we don't want)  and we can PARALLELIZE (we can choose hte number of workers)"
      ],
      "metadata": {
        "id": "VPJQXfV-eKT-"
      }
    },
    {
      "cell_type": "markdown",
      "source": [
        "PyTorch's `torch.utils.data.DataLoader` wraps an iterable around a `Dataset` object to enable easy access to the samples and gives us the following functionalities:\n",
        "- Data batching\n",
        "- Data shuffling\n",
        "- Parallel data loading using multiprocessing workers. Meaning that while the GPU is performing some computation on a batch, in parallel you can load the next batch.\n",
        "\n",
        "In other words, `DataLoader` is an iterable that abstracts this complexity for us in an easy API.\n",
        "\n",
        "Let's create `DataLoader`'s for our training and test sets."
      ],
      "metadata": {
        "id": "4tsN28-aU5YS"
      }
    },
    {
      "cell_type": "code",
      "source": [
        " # Setup training data\n",
        "train_data = datasets.FashionMNIST(\n",
        "    root=\"data\",\n",
        "    train=True,\n",
        "    download=True,\n",
        "    transform=ToTensor()\n",
        ")\n",
        "\n",
        "# Setup test data\n",
        "test_data = datasets.FashionMNIST(\n",
        "    root=\"data\",\n",
        "    train=False,\n",
        "    download=True,\n",
        "    transform=ToTensor()\n",
        ")"
      ],
      "metadata": {
        "id": "eRHCT_xOao78"
      },
      "execution_count": 16,
      "outputs": []
    },
    {
      "cell_type": "code",
      "source": [
        "from torch.utils.data import DataLoader\n",
        "\n",
        "# Setup the batch size hyperparameter\n",
        "BATCH_SIZE = 32       #Very important to set!\n",
        "\n",
        "\n",
        "### We define the DataLoaders\n",
        "# Turn datasets into iterables (batches)\n",
        "train_dataloader = DataLoader(train_data, # dataset to turn into iterable\n",
        "    batch_size=BATCH_SIZE, # how many samples per batch?\n",
        "    shuffle=True # shuffle data every epoch? We shuffle every whole iteration of the dataset\n",
        ")\n",
        "\n",
        "test_dataloader = DataLoader(test_data,\n",
        "    batch_size=BATCH_SIZE,\n",
        "    shuffle=False # don't necessarily have to shuffle the testing data\n",
        ")\n",
        "\n",
        "# Let's check out what we've created\n",
        "print(f\"Dataloaders: {train_dataloader, test_dataloader}\")\n",
        "print(f\"Length of train dataloader: {len(train_dataloader)} batches of {BATCH_SIZE}\")\n",
        "print(f\"Length of test dataloader: {len(test_dataloader)} batches of {BATCH_SIZE}\")"
      ],
      "metadata": {
        "id": "PBaj-9MOVnSp",
        "colab": {
          "base_uri": "https://localhost:8080/",
          "height": 232
        },
        "outputId": "9430e18a-180b-4b7a-ef6b-c2da446d5b29"
      },
      "execution_count": 3,
      "outputs": [
        {
          "output_type": "error",
          "ename": "NameError",
          "evalue": "name 'train_data' is not defined",
          "traceback": [
            "\u001b[0;31m---------------------------------------------------------------------------\u001b[0m",
            "\u001b[0;31mNameError\u001b[0m                                 Traceback (most recent call last)",
            "\u001b[0;32m<ipython-input-3-0b83e54954e5>\u001b[0m in \u001b[0;36m<cell line: 0>\u001b[0;34m()\u001b[0m\n\u001b[1;32m      7\u001b[0m \u001b[0;31m### We define the DataLoaders\u001b[0m\u001b[0;34m\u001b[0m\u001b[0;34m\u001b[0m\u001b[0m\n\u001b[1;32m      8\u001b[0m \u001b[0;31m# Turn datasets into iterables (batches)\u001b[0m\u001b[0;34m\u001b[0m\u001b[0;34m\u001b[0m\u001b[0m\n\u001b[0;32m----> 9\u001b[0;31m train_dataloader = DataLoader(train_data, # dataset to turn into iterable\n\u001b[0m\u001b[1;32m     10\u001b[0m     \u001b[0mbatch_size\u001b[0m\u001b[0;34m=\u001b[0m\u001b[0mBATCH_SIZE\u001b[0m\u001b[0;34m,\u001b[0m \u001b[0;31m# how many samples per batch?\u001b[0m\u001b[0;34m\u001b[0m\u001b[0;34m\u001b[0m\u001b[0m\n\u001b[1;32m     11\u001b[0m     \u001b[0mshuffle\u001b[0m\u001b[0;34m=\u001b[0m\u001b[0;32mTrue\u001b[0m \u001b[0;31m# shuffle data every epoch? We shuffle every whole iteration of the dataset\u001b[0m\u001b[0;34m\u001b[0m\u001b[0;34m\u001b[0m\u001b[0m\n",
            "\u001b[0;31mNameError\u001b[0m: name 'train_data' is not defined"
          ]
        }
      ]
    },
    {
      "cell_type": "code",
      "source": [
        "# Check out what's inside the training dataloader\n",
        "train_features_batch, train_labels_batch = next(iter(train_dataloader))    #We create the train as an ITERABLE => something we ca iterate over!\n",
        "                                           #Next gives the next one=>The next call is going to give us the first 32 immages\n",
        "                                           #They will be ofc shuffled (not exactly the first 32). Then with the next next() we will get the next 32 immages\n",
        "train_features_batch.shape, train_labels_batch.shape\n",
        "# We will have a 4D tensor => The DataLoader will stuck the immages one over the other\n",
        "# We have 32 immages, 1 channel, 28x28\n",
        "\n"
      ],
      "metadata": {
        "id": "FGOpYPEOVwJ-",
        "colab": {
          "base_uri": "https://localhost:8080/"
        },
        "outputId": "0b1f6928-9b39-42a7-b8b9-07dffa1bc722"
      },
      "execution_count": 24,
      "outputs": [
        {
          "output_type": "execute_result",
          "data": {
            "text/plain": [
              "(torch.Size([32, 1, 28, 28]), torch.Size([32]))"
            ]
          },
          "metadata": {},
          "execution_count": 24
        }
      ]
    },
    {
      "cell_type": "markdown",
      "source": [
        "And we can see that the data remains unchanged by checking a single sample."
      ],
      "metadata": {
        "id": "lauqbMvIV1If"
      }
    },
    {
      "cell_type": "code",
      "source": [
        "# Show a sample\n",
        "torch.manual_seed(42)\n",
        "random_idx = torch.randint(0, len(train_features_batch), size=[1]).item()     # The random will be deterministic\n",
        "print(random_idx)\n",
        "img, label = train_features_batch[random_idx], train_labels_batch[random_idx]\n",
        "plt.imshow(img.squeeze(), cmap=\"gray\")\n",
        "plt.title(class_names[label])\n",
        "plt.axis(\"Off\");\n",
        "print(f\"Image size: {img.shape}\")\n",
        "print(f\"Label: {label}, label size: {label.shape}\")\n",
        "\n",
        "### !!! But the immage will change every time we re-use next() when we load another batch, even if the seed is always the same"
      ],
      "metadata": {
        "id": "g0S8-STrV1z8",
        "colab": {
          "base_uri": "https://localhost:8080/",
          "height": 481
        },
        "outputId": "598d02b4-15c4-474d-9074-02417f507a8b"
      },
      "execution_count": 26,
      "outputs": [
        {
          "output_type": "stream",
          "name": "stdout",
          "text": [
            "6\n",
            "Image size: torch.Size([1, 28, 28])\n",
            "Label: 0, label size: torch.Size([])\n"
          ]
        },
        {
          "output_type": "display_data",
          "data": {
            "text/plain": [
              "<Figure size 640x480 with 1 Axes>"
            ],
            "image/png": "[encoded data removed]"
          },
          "metadata": {}
        }
      ]
    },
    {
      "cell_type": "markdown",
      "source": [
        "There are other parameters that can be passed to a DataLoader constructore:\n",
        "- `num_workers`: how many subprocesses to use for data loading. 0 means that the data will be loaded in the main process. (default: 0)\n",
        "- `pin_memory`: If True, the data loader will copy Tensors into device/CUDA pinned memory before returning them. If your data elements are a custom type, or your collate_fn returns a batch that is a custom type, see the example below.\n",
        "\n",
        "For a full list of DataLoader's arguments check the [documentation](https://pytorch.org/docs/stable/data.html#torch.utils.data.DataLoader)."
      ],
      "metadata": {
        "id": "dYHOgrt8WfnR"
      }
    },
    {
      "cell_type": "code",
      "source": [
        "from torch.utils.data import DataLoader\n",
        "from tqdm.notebook import tqdm as tqdm   # just a progress bar => a VISULIZATION TOOL\n",
        "import time\n",
        "\n",
        "BATCH_SIZE = 32\n",
        "NUM_WORKERS = 8\n",
        "\n",
        "train_dataloader = DataLoader(train_data,\n",
        "                       batch_size=BATCH_SIZE,    # number of elements in each batch\n",
        "                            # i dataset sono grossi e quindi non si può passare tutto il dataset assieme o solo un'immagine per volta\n",
        "                            # se gli passi solo un'immagine praticamente quando fa l'aggiornamento dei pesi non impara quasi niente e\n",
        "                            # e non puoi passare tutto i dataset perchè è troppo grande.\n",
        "                       shuffle=True,    # shuffle the dataset\n",
        "                       num_workers=NUM_WORKERS,   # number of workers, i.e. batches to prefetch\n",
        "                       pin_memory=True  # return memory-pinned tensors, see below for an explanation!\n",
        "                                        # pin_memory will make it faster\n",
        "                              )\n",
        "\n",
        "# 60000 iterations\n",
        "for sample in tqdm(train_data):\n",
        "  pass\n",
        "\n",
        "# 60000/32 iterations\n",
        "for batch in tqdm(train_dataloader):  # there is some overhead when using multiple workers!\n",
        "  # time.sleep(0.1)\n",
        "  pass\n",
        "\n",
        "### The first time is the time needed, the second time is the time it thinks it will be needed."
      ],
      "metadata": {
        "id": "ERWkXKFCWgGW",
        "colab": {
          "base_uri": "https://localhost:8080/",
          "height": 232
        },
        "outputId": "655deef5-f34f-4f24-bd87-887ec5a83df7"
      },
      "execution_count": 2,
      "outputs": [
        {
          "output_type": "error",
          "ename": "NameError",
          "evalue": "name 'train_data' is not defined",
          "traceback": [
            "\u001b[0;31m---------------------------------------------------------------------------\u001b[0m",
            "\u001b[0;31mNameError\u001b[0m                                 Traceback (most recent call last)",
            "\u001b[0;32m<ipython-input-2-9e58a45b7968>\u001b[0m in \u001b[0;36m<cell line: 0>\u001b[0;34m()\u001b[0m\n\u001b[1;32m      6\u001b[0m \u001b[0mNUM_WORKERS\u001b[0m \u001b[0;34m=\u001b[0m \u001b[0;36m8\u001b[0m\u001b[0;34m\u001b[0m\u001b[0;34m\u001b[0m\u001b[0m\n\u001b[1;32m      7\u001b[0m \u001b[0;34m\u001b[0m\u001b[0m\n\u001b[0;32m----> 8\u001b[0;31m train_dataloader = DataLoader(train_data,\n\u001b[0m\u001b[1;32m      9\u001b[0m                        \u001b[0mbatch_size\u001b[0m\u001b[0;34m=\u001b[0m\u001b[0mBATCH_SIZE\u001b[0m\u001b[0;34m,\u001b[0m    \u001b[0;31m# number of elements in each batch\u001b[0m\u001b[0;34m\u001b[0m\u001b[0;34m\u001b[0m\u001b[0m\n\u001b[1;32m     10\u001b[0m                        \u001b[0mshuffle\u001b[0m\u001b[0;34m=\u001b[0m\u001b[0;32mTrue\u001b[0m\u001b[0;34m,\u001b[0m    \u001b[0;31m# shuffle the dataset\u001b[0m\u001b[0;34m\u001b[0m\u001b[0;34m\u001b[0m\u001b[0m\n",
            "\u001b[0;31mNameError\u001b[0m: name 'train_data' is not defined"
          ]
        }
      ]
    },
    {
      "cell_type": "markdown",
      "source": [
        "### 6.1 Notes\n",
        "If you the dataset does not return a dictionary or some other form of regular structure from the dataset, you must manually specify *how* to put the samples together to form a batch. This can be done with the `collate_fn` parameter of the `DataLoader`.\n",
        "\n",
        "Please read these [docs](https://pytorch.org/docs/stable/data.html#loading-batched-and-non-batched-data) to understand the default behavior of `collate_fn` and how you can define custom `collate_fn` functions.\n",
        "\n",
        "-----\n",
        "\n",
        "The DataLoader is just an iterator, it can't be directly indexed!"
      ],
      "metadata": {
        "id": "6z6OUwtPYyk9"
      }
    },
    {
      "cell_type": "code",
      "source": [
        "try:     # We try to execute the cell and if some exeption happens (some errors) we capture it and print it\n",
        "  train_dataloader[0]\n",
        "except Exception as e:        # We can understand where and why the code is filing, without compromising our memory state.\n",
        "  print('Error:', e)\n",
        "\n",
        "### In this case we can directly  index [] the data loader."
      ],
      "metadata": {
        "id": "2jDB6zm1ZNhM",
        "colab": {
          "base_uri": "https://localhost:8080/"
        },
        "outputId": "c7bec3d1-517a-4224-da43-c48795161a69"
      },
      "execution_count": null,
      "outputs": [
        {
          "output_type": "stream",
          "name": "stdout",
          "text": [
            "Error: 'DataLoader' object is not subscriptable\n"
          ]
        }
      ]
    },
    {
      "cell_type": "markdown",
      "source": [
        "## 7 Custom datasets\n",
        "\n",
        "Although PyTorch offers a few pre-loaded datasets that can be used in just one line of code, most of the times we have to create a **custom dataset** using our own data.\n",
        "\n",
        "\n",
        "A **custom dataset** is a collection of data relating to a specific problem you're working on.\n",
        "In essence, a **custom dataset** can be comprised of almost anything.\n",
        "For example, if we were building a food image classification app like [Nutrify](https://nutrify.app), our custom dataset might be images of food.\n",
        "\n",
        "Or if we were trying to build a model to classify whether or not a text-based review on a website was positive or negative, our custom dataset might be examples of existing customer reviews and their ratings.\n",
        "\n",
        "Or if we were trying to build a sound classification app, our custom dataset might be sound samples alongside their sample labels.\n",
        "\n",
        "Or if we were trying to build a recommendation system for customers purchasing things on our website, our custom dataset might be examples of products other people have bought.\n",
        "\n",
        "<img src=\"https://raw.githubusercontent.com/mrdbourke/pytorch-deep-learning/main/images/04-pytorch-domain-libraries.png\" alt=\"different pytorch domain libraries can be used for specific PyTorch problems\" width=1000/>\n",
        "\n",
        "\n",
        "We can create a custom dataset by extending (subclassing) the abstract `torch.utils.data.Dataset` class.\n",
        "\n"
      ],
      "metadata": {
        "id": "NjG5MuLZnHBs"
      }
    },
    {
      "cell_type": "markdown",
      "source": [
        "### 7.1 Creating a Dataset subclass\n",
        "\n",
        "*What is [`torch.utils.data.Dataset`](https://pytorch.org/docs/stable/data.html?highlight=dataset#torch.utils.data.Dataset)?*\n",
        "\n",
        "It is an abstract class representing a dataset. Your custom dataset should inherit `Dataset` and override the following methods:\n",
        "\n",
        "- `__init__`: The `__init__` function is run once when instantiating the Dataset object. We initialize the directory containing the images, the annotations file, and both transforms (covered in more detail in the next section).\n",
        "- `__len__`: The `__len__` function returns the number of samples in our dataset.\n",
        "- `__getitem__`: The `__getitem__` function loads and returns a sample from the dataset at the given index idx. Based on the index, it identifies the image's location on disk, converts that to a tensor using read_image, retrieves the corresponding label from the csv data in self.img_labels, calls the transform functions on them (if applicable), and returns the tensor image and corresponding label in a tuple.\n",
        "\n",
        "Let's see this in practice with a toy dataset:"
      ],
      "metadata": {
        "id": "yxTNInVQbWJZ"
      }
    },
    {
      "cell_type": "code",
      "metadata": {
        "id": "HclJRK7QdOZM",
        "colab": {
          "base_uri": "https://localhost:8080/"
        },
        "outputId": "a77552c0-a9f4-4e7f-ad58-abfe8c312ddf"
      },
      "source": [
        "from torch.utils.data import Dataset\n",
        "\n",
        "class ToyDataset(Dataset): #our ToyDataset class inherits from the Dataset class\n",
        "\n",
        "  def __init__(self, n_points: int = 20, noise: float = .1):\n",
        "    super().__init__()  # In python 3 this is enough\n",
        "    self.n_points = n_points\n",
        "    # these two lines pre-load the entire dataset in memory\n",
        "    self.x = torch.linspace(-1, 1, n_points)\n",
        "    self.y = self.x ** 3 + noise * torch.randn(n_points)     # We create a y with a noise, with torch.randn to create random points\n",
        "\n",
        "  def __len__(self):\n",
        "    return self.n_points\n",
        "\n",
        "  def __getitem__(self, idx):    # SIGNATURE => means that it has always to have those parameters and those names\n",
        "    return {                 # We return a dictionary (key-value  )\n",
        "        'x': self.x[idx],\n",
        "        'y': self.y[idx]\n",
        "    }\n",
        "\n",
        "toydataset = ToyDataset(20, noise=.1)    # Here it wants an INTEGER!\n",
        "toydataset[5]    # is the same as writing toydataset.__getitem__[5]"
      ],
      "execution_count": null,
      "outputs": [
        {
          "output_type": "execute_result",
          "data": {
            "text/plain": [
              "{'x': tensor(-0.4737), 'y': tensor(-0.0408)}"
            ]
          },
          "metadata": {},
          "execution_count": 41
        }
      ]
    },
    {
      "cell_type": "markdown",
      "metadata": {
        "id": "BZRoEO92fefK"
      },
      "source": [
        "In this case the dataset is composed of simple pairs:"
      ]
    },
    {
      "cell_type": "code",
      "metadata": {
        "id": "Z-jhx5AUvQ2E",
        "colab": {
          "base_uri": "https://localhost:8080/"
        },
        "outputId": "ca12877c-88ef-45ee-d0e7-61bbda2ef20f"
      },
      "source": [
        "toydataset[2]\n",
        "\n",
        "#Do you remember how to access the scalar number from a Tensor of rank 0?"
      ],
      "execution_count": null,
      "outputs": [
        {
          "output_type": "execute_result",
          "data": {
            "text/plain": [
              "{'x': tensor(-0.7895), 'y': tensor(-0.5766)}"
            ]
          },
          "metadata": {},
          "execution_count": 34
        }
      ]
    },
    {
      "cell_type": "code",
      "source": [
        "toydataset[2][\"x\"].item()"
      ],
      "metadata": {
        "id": "-UlVOjoJbPKw",
        "colab": {
          "base_uri": "https://localhost:8080/"
        },
        "outputId": "eba3273f-de2d-4126-bfdf-16cec8ef6d18"
      },
      "execution_count": null,
      "outputs": [
        {
          "output_type": "execute_result",
          "data": {
            "text/plain": [
              "-0.7894736528396606"
            ]
          },
          "metadata": {},
          "execution_count": 36
        }
      ]
    },
    {
      "cell_type": "markdown",
      "source": [
        "Now, let's visualize the data. We are going to use Plotly, but we could also do it with Matplotlib"
      ],
      "metadata": {
        "id": "qrOgmv4YcBNM"
      }
    },
    {
      "cell_type": "code",
      "source": [
        "toydataset.x.numpy()     # from tensor to numpy"
      ],
      "metadata": {
        "colab": {
          "base_uri": "https://localhost:8080/"
        },
        "id": "IwNszyAniEFR",
        "outputId": "223c7db8-fe51-4c60-b4b6-2f7df7909bea"
      },
      "execution_count": null,
      "outputs": [
        {
          "output_type": "execute_result",
          "data": {
            "text/plain": [
              "array([-1.        , -0.8947368 , -0.78947365, -0.68421054, -0.57894737,\n",
              "       -0.4736842 , -0.36842105, -0.2631579 , -0.15789473, -0.05263157,\n",
              "        0.05263157,  0.15789473,  0.2631579 ,  0.36842105,  0.4736842 ,\n",
              "        0.57894737,  0.68421054,  0.78947365,  0.8947368 ,  1.        ],\n",
              "      dtype=float32)"
            ]
          },
          "metadata": {},
          "execution_count": 43
        }
      ]
    },
    {
      "cell_type": "code",
      "metadata": {
        "id": "M6vM4yKRfZEm",
        "colab": {
          "base_uri": "https://localhost:8080/",
          "height": 542
        },
        "outputId": "35035499-a18d-45f6-a903-13f40fb91024"
      },
      "source": [
        "import plotly.express as px\n",
        "fig = px.scatter(x=toydataset.x, y=toydataset.y)\n",
        "fig.show()"
      ],
      "execution_count": null,
      "outputs": [
        {
          "output_type": "display_data",
          "data": {
            "text/html": [
              "<html>\n",
              "<head><meta charset=\"utf-8\" /></head>\n",
              "<body>\n",
              "    <div>            <script src=\"https://cdnjs.cloudflare.com/ajax/libs/mathjax/2.7.5/MathJax.js?config=TeX-AMS-MML_SVG\"></script><script type=\"text/javascript\">if (window.MathJax && window.MathJax.Hub && window.MathJax.Hub.Config) {window.MathJax.Hub.Config({SVG: {font: \"STIX-Web\"}});}</script>                <script type=\"text/javascript\">window.PlotlyConfig = {MathJaxConfig: 'local'};</script>\n",
              "        <script charset=\"utf-8\" src=\"https://cdn.plot.ly/plotly-2.35.2.min.js\"></script>                <div id=\"d041308a-eaba-4993-bcae-81a28677759c\" class=\"plotly-graph-div\" style=\"height:525px; width:100%;\"></div>            <script type=\"text/javascript\">                                    window.PLOTLYENV=window.PLOTLYENV || {};                                    if (document.getElementById(\"d041308a-eaba-4993-bcae-81a28677759c\")) {                    Plotly.newPlot(                        \"d041308a-eaba-4993-bcae-81a28677759c\",                        [{\"hovertemplate\":\"x=%{x}\\u003cbr\\u003ey=%{y}\\u003cextra\\u003e\\u003c\\u002fextra\\u003e\",\"legendgroup\":\"\",\"marker\":{\"color\":\"#636efa\",\"symbol\":\"circle\"},\"mode\":\"markers\",\"name\":\"\",\"orientation\":\"v\",\"showlegend\":false,\"x\":[-1.0,-0.8947368,-0.78947365,-0.68421054,-0.57894737,-0.4736842,-0.36842105,-0.2631579,-0.15789473,-0.052631572,0.052631572,0.15789473,0.2631579,0.36842105,0.4736842,0.57894737,0.68421054,0.78947365,0.8947368,1.0],\"xaxis\":\"x\",\"y\":[-1.0102335,-0.7762004,-0.44434854,-0.24769138,-0.03051065,-0.040809624,0.00759317,-0.054315224,-0.009995472,0.0071796826,0.082011096,0.15198383,0.12153297,-0.018657807,0.16996506,0.21580693,0.3156436,0.34870207,0.65963244,0.95747167],\"yaxis\":\"y\",\"type\":\"scatter\"}],                        {\"template\":{\"data\":{\"histogram2dcontour\":[{\"type\":\"histogram2dcontour\",\"colorbar\":{\"outlinewidth\":0,\"ticks\":\"\"},\"colorscale\":[[0.0,\"#0d0887\"],[0.1111111111111111,\"#46039f\"],[0.2222222222222222,\"#7201a8\"],[0.3333333333333333,\"#9c179e\"],[0.4444444444444444,\"#bd3786\"],[0.5555555555555556,\"#d8576b\"],[0.6666666666666666,\"#ed7953\"],[0.7777777777777778,\"#fb9f3a\"],[0.8888888888888888,\"#fdca26\"],[1.0,\"#f0f921\"]]}],\"choropleth\":[{\"type\":\"choropleth\",\"colorbar\":{\"outlinewidth\":0,\"ticks\":\"\"}}],\"histogram2d\":[{\"type\":\"histogram2d\",\"colorbar\":{\"outlinewidth\":0,\"ticks\":\"\"},\"colorscale\":[[0.0,\"#0d0887\"],[0.1111111111111111,\"#46039f\"],[0.2222222222222222,\"#7201a8\"],[0.3333333333333333,\"#9c179e\"],[0.4444444444444444,\"#bd3786\"],[0.5555555555555556,\"#d8576b\"],[0.6666666666666666,\"#ed7953\"],[0.7777777777777778,\"#fb9f3a\"],[0.8888888888888888,\"#fdca26\"],[1.0,\"#f0f921\"]]}],\"heatmap\":[{\"type\":\"heatmap\",\"colorbar\":{\"outlinewidth\":0,\"ticks\":\"\"},\"colorscale\":[[0.0,\"#0d0887\"],[0.1111111111111111,\"#46039f\"],[0.2222222222222222,\"#7201a8\"],[0.3333333333333333,\"#9c179e\"],[0.4444444444444444,\"#bd3786\"],[0.5555555555555556,\"#d8576b\"],[0.6666666666666666,\"#ed7953\"],[0.7777777777777778,\"#fb9f3a\"],[0.8888888888888888,\"#fdca26\"],[1.0,\"#f0f921\"]]}],\"heatmapgl\":[{\"type\":\"heatmapgl\",\"colorbar\":{\"outlinewidth\":0,\"ticks\":\"\"},\"colorscale\":[[0.0,\"#0d0887\"],[0.1111111111111111,\"#46039f\"],[0.2222222222222222,\"#7201a8\"],[0.3333333333333333,\"#9c179e\"],[0.4444444444444444,\"#bd3786\"],[0.5555555555555556,\"#d8576b\"],[0.6666666666666666,\"#ed7953\"],[0.7777777777777778,\"#fb9f3a\"],[0.8888888888888888,\"#fdca26\"],[1.0,\"#f0f921\"]]}],\"contourcarpet\":[{\"type\":\"contourcarpet\",\"colorbar\":{\"outlinewidth\":0,\"ticks\":\"\"}}],\"contour\":[{\"type\":\"contour\",\"colorbar\":{\"outlinewidth\":0,\"ticks\":\"\"},\"colorscale\":[[0.0,\"#0d0887\"],[0.1111111111111111,\"#46039f\"],[0.2222222222222222,\"#7201a8\"],[0.3333333333333333,\"#9c179e\"],[0.4444444444444444,\"#bd3786\"],[0.5555555555555556,\"#d8576b\"],[0.6666666666666666,\"#ed7953\"],[0.7777777777777778,\"#fb9f3a\"],[0.8888888888888888,\"#fdca26\"],[1.0,\"#f0f921\"]]}],\"surface\":[{\"type\":\"surface\",\"colorbar\":{\"outlinewidth\":0,\"ticks\":\"\"},\"colorscale\":[[0.0,\"#0d0887\"],[0.1111111111111111,\"#46039f\"],[0.2222222222222222,\"#7201a8\"],[0.3333333333333333,\"#9c179e\"],[0.4444444444444444,\"#bd3786\"],[0.5555555555555556,\"#d8576b\"],[0.6666666666666666,\"#ed7953\"],[0.7777777777777778,\"#fb9f3a\"],[0.8888888888888888,\"#fdca26\"],[1.0,\"#f0f921\"]]}],\"mesh3d\":[{\"type\":\"mesh3d\",\"colorbar\":{\"outlinewidth\":0,\"ticks\":\"\"}}],\"scatter\":[{\"fillpattern\":{\"fillmode\":\"overlay\",\"size\":10,\"solidity\":0.2},\"type\":\"scatter\"}],\"parcoords\":[{\"type\":\"parcoords\",\"line\":{\"colorbar\":{\"outlinewidth\":0,\"ticks\":\"\"}}}],\"scatterpolargl\":[{\"type\":\"scatterpolargl\",\"marker\":{\"colorbar\":{\"outlinewidth\":0,\"ticks\":\"\"}}}],\"bar\":[{\"error_x\":{\"color\":\"#2a3f5f\"},\"error_y\":{\"color\":\"#2a3f5f\"},\"marker\":{\"line\":{\"color\":\"#E5ECF6\",\"width\":0.5},\"pattern\":{\"fillmode\":\"overlay\",\"size\":10,\"solidity\":0.2}},\"type\":\"bar\"}],\"scattergeo\":[{\"type\":\"scattergeo\",\"marker\":{\"colorbar\":{\"outlinewidth\":0,\"ticks\":\"\"}}}],\"scatterpolar\":[{\"type\":\"scatterpolar\",\"marker\":{\"colorbar\":{\"outlinewidth\":0,\"ticks\":\"\"}}}],\"histogram\":[{\"marker\":{\"pattern\":{\"fillmode\":\"overlay\",\"size\":10,\"solidity\":0.2}},\"type\":\"histogram\"}],\"scattergl\":[{\"type\":\"scattergl\",\"marker\":{\"colorbar\":{\"outlinewidth\":0,\"ticks\":\"\"}}}],\"scatter3d\":[{\"type\":\"scatter3d\",\"line\":{\"colorbar\":{\"outlinewidth\":0,\"ticks\":\"\"}},\"marker\":{\"colorbar\":{\"outlinewidth\":0,\"ticks\":\"\"}}}],\"scattermapbox\":[{\"type\":\"scattermapbox\",\"marker\":{\"colorbar\":{\"outlinewidth\":0,\"ticks\":\"\"}}}],\"scatterternary\":[{\"type\":\"scatterternary\",\"marker\":{\"colorbar\":{\"outlinewidth\":0,\"ticks\":\"\"}}}],\"scattercarpet\":[{\"type\":\"scattercarpet\",\"marker\":{\"colorbar\":{\"outlinewidth\":0,\"ticks\":\"\"}}}],\"carpet\":[{\"aaxis\":{\"endlinecolor\":\"#2a3f5f\",\"gridcolor\":\"white\",\"linecolor\":\"white\",\"minorgridcolor\":\"white\",\"startlinecolor\":\"#2a3f5f\"},\"baxis\":{\"endlinecolor\":\"#2a3f5f\",\"gridcolor\":\"white\",\"linecolor\":\"white\",\"minorgridcolor\":\"white\",\"startlinecolor\":\"#2a3f5f\"},\"type\":\"carpet\"}],\"table\":[{\"cells\":{\"fill\":{\"color\":\"#EBF0F8\"},\"line\":{\"color\":\"white\"}},\"header\":{\"fill\":{\"color\":\"#C8D4E3\"},\"line\":{\"color\":\"white\"}},\"type\":\"table\"}],\"barpolar\":[{\"marker\":{\"line\":{\"color\":\"#E5ECF6\",\"width\":0.5},\"pattern\":{\"fillmode\":\"overlay\",\"size\":10,\"solidity\":0.2}},\"type\":\"barpolar\"}],\"pie\":[{\"automargin\":true,\"type\":\"pie\"}]},\"layout\":{\"autotypenumbers\":\"strict\",\"colorway\":[\"#636efa\",\"#EF553B\",\"#00cc96\",\"#ab63fa\",\"#FFA15A\",\"#19d3f3\",\"#FF6692\",\"#B6E880\",\"#FF97FF\",\"#FECB52\"],\"font\":{\"color\":\"#2a3f5f\"},\"hovermode\":\"closest\",\"hoverlabel\":{\"align\":\"left\"},\"paper_bgcolor\":\"white\",\"plot_bgcolor\":\"#E5ECF6\",\"polar\":{\"bgcolor\":\"#E5ECF6\",\"angularaxis\":{\"gridcolor\":\"white\",\"linecolor\":\"white\",\"ticks\":\"\"},\"radialaxis\":{\"gridcolor\":\"white\",\"linecolor\":\"white\",\"ticks\":\"\"}},\"ternary\":{\"bgcolor\":\"#E5ECF6\",\"aaxis\":{\"gridcolor\":\"white\",\"linecolor\":\"white\",\"ticks\":\"\"},\"baxis\":{\"gridcolor\":\"white\",\"linecolor\":\"white\",\"ticks\":\"\"},\"caxis\":{\"gridcolor\":\"white\",\"linecolor\":\"white\",\"ticks\":\"\"}},\"coloraxis\":{\"colorbar\":{\"outlinewidth\":0,\"ticks\":\"\"}},\"colorscale\":{\"sequential\":[[0.0,\"#0d0887\"],[0.1111111111111111,\"#46039f\"],[0.2222222222222222,\"#7201a8\"],[0.3333333333333333,\"#9c179e\"],[0.4444444444444444,\"#bd3786\"],[0.5555555555555556,\"#d8576b\"],[0.6666666666666666,\"#ed7953\"],[0.7777777777777778,\"#fb9f3a\"],[0.8888888888888888,\"#fdca26\"],[1.0,\"#f0f921\"]],\"sequentialminus\":[[0.0,\"#0d0887\"],[0.1111111111111111,\"#46039f\"],[0.2222222222222222,\"#7201a8\"],[0.3333333333333333,\"#9c179e\"],[0.4444444444444444,\"#bd3786\"],[0.5555555555555556,\"#d8576b\"],[0.6666666666666666,\"#ed7953\"],[0.7777777777777778,\"#fb9f3a\"],[0.8888888888888888,\"#fdca26\"],[1.0,\"#f0f921\"]],\"diverging\":[[0,\"#8e0152\"],[0.1,\"#c51b7d\"],[0.2,\"#de77ae\"],[0.3,\"#f1b6da\"],[0.4,\"#fde0ef\"],[0.5,\"#f7f7f7\"],[0.6,\"#e6f5d0\"],[0.7,\"#b8e186\"],[0.8,\"#7fbc41\"],[0.9,\"#4d9221\"],[1,\"#276419\"]]},\"xaxis\":{\"gridcolor\":\"white\",\"linecolor\":\"white\",\"ticks\":\"\",\"title\":{\"standoff\":15},\"zerolinecolor\":\"white\",\"automargin\":true,\"zerolinewidth\":2},\"yaxis\":{\"gridcolor\":\"white\",\"linecolor\":\"white\",\"ticks\":\"\",\"title\":{\"standoff\":15},\"zerolinecolor\":\"white\",\"automargin\":true,\"zerolinewidth\":2},\"scene\":{\"xaxis\":{\"backgroundcolor\":\"#E5ECF6\",\"gridcolor\":\"white\",\"linecolor\":\"white\",\"showbackground\":true,\"ticks\":\"\",\"zerolinecolor\":\"white\",\"gridwidth\":2},\"yaxis\":{\"backgroundcolor\":\"#E5ECF6\",\"gridcolor\":\"white\",\"linecolor\":\"white\",\"showbackground\":true,\"ticks\":\"\",\"zerolinecolor\":\"white\",\"gridwidth\":2},\"zaxis\":{\"backgroundcolor\":\"#E5ECF6\",\"gridcolor\":\"white\",\"linecolor\":\"white\",\"showbackground\":true,\"ticks\":\"\",\"zerolinecolor\":\"white\",\"gridwidth\":2}},\"shapedefaults\":{\"line\":{\"color\":\"#2a3f5f\"}},\"annotationdefaults\":{\"arrowcolor\":\"#2a3f5f\",\"arrowhead\":0,\"arrowwidth\":1},\"geo\":{\"bgcolor\":\"white\",\"landcolor\":\"#E5ECF6\",\"subunitcolor\":\"white\",\"showland\":true,\"showlakes\":true,\"lakecolor\":\"white\"},\"title\":{\"x\":0.05},\"mapbox\":{\"style\":\"light\"}}},\"xaxis\":{\"anchor\":\"y\",\"domain\":[0.0,1.0],\"title\":{\"text\":\"x\"}},\"yaxis\":{\"anchor\":\"x\",\"domain\":[0.0,1.0],\"title\":{\"text\":\"y\"}},\"legend\":{\"tracegroupgap\":0},\"margin\":{\"t\":60}},                        {\"responsive\": true}                    ).then(function(){\n",
              "                            \n",
              "var gd = document.getElementById('d041308a-eaba-4993-bcae-81a28677759c');\n",
              "var x = new MutationObserver(function (mutations, observer) {{\n",
              "        var display = window.getComputedStyle(gd).display;\n",
              "        if (!display || display === 'none') {{\n",
              "            console.log([gd, 'removed!']);\n",
              "            Plotly.purge(gd);\n",
              "            observer.disconnect();\n",
              "        }}\n",
              "}});\n",
              "\n",
              "// Listen for the removal of the full notebook cells\n",
              "var notebookContainer = gd.closest('#notebook-container');\n",
              "if (notebookContainer) {{\n",
              "    x.observe(notebookContainer, {childList: true});\n",
              "}}\n",
              "\n",
              "// Listen for the clearing of the current output cell\n",
              "var outputEl = gd.closest('.output');\n",
              "if (outputEl) {{\n",
              "    x.observe(outputEl, {childList: true});\n",
              "}}\n",
              "\n",
              "                        })                };                            </script>        </div>\n",
              "</body>\n",
              "</html>"
            ]
          },
          "metadata": {}
        }
      ]
    },
    {
      "cell_type": "markdown",
      "metadata": {
        "id": "NS0j3M_pgk8s"
      },
      "source": [
        "> **NOTE**\n",
        ">\n",
        "> Small Python reminder. Every object that implements the `__getitem__` method follows the [iterator procotol](https://www.python.org/dev/peps/pep-0234/#python-api-specification). It means that you can **iterate** the dataset:\n",
        "\n",
        "\n"
      ]
    },
    {
      "cell_type": "code",
      "metadata": {
        "id": "sMdwLEFDhZCu",
        "colab": {
          "base_uri": "https://localhost:8080/",
          "height": 49,
          "referenced_widgets": [
            "39496ff7a4b4485fb37e68a2d1cb75f8",
            "7c73906b12fb4dd885efe8f59f5632d0",
            "3178992e04a94e5495db1b463ea69f39",
            "eb84202bf0c947ff8b044ed42966ddcf",
            "b4c500c98fab4fa5b3a51247f22ea634",
            "7970871adedc4f3da6367f38a71ad3e8",
            "510b5564fe5647189b527c0e7836ba1d",
            "b7037cbebc4c4157a45f42be2337b0f7",
            "eb8abee4d31849b485d594ad21716e3e",
            "86029d368a2c4cccb81524914d1aca77",
            "11f467df100b431fa05a5f4c29a7a406"
          ]
        },
        "outputId": "868caf37-538c-40e7-8aee-7ec24d647007"
      },
      "source": [
        "from tqdm.notebook import tqdm as tqdm   # just a progress bar\n",
        "import time\n",
        "\n",
        "for sample in tqdm(toydataset):  # wrap the iterable in tqdm and you're done\n",
        "  time.sleep(0.1)\n",
        "  pass"
      ],
      "execution_count": null,
      "outputs": [
        {
          "output_type": "display_data",
          "data": {
            "text/plain": [
              "  0%|          | 0/20 [00:00<?, ?it/s]"
            ],
            "application/vnd.jupyter.widget-view+json": {
              "version_major": 2,
              "version_minor": 0,
              "model_id": "39496ff7a4b4485fb37e68a2d1cb75f8"
            }
          },
          "metadata": {}
        }
      ]
    },
    {
      "cell_type": "markdown",
      "metadata": {
        "id": "9GXYYwNTfK7D"
      },
      "source": [
        "In the `ToyDataset` the whole dataset is stored **in memory**, i.e. in attributes of the `ToyDataset` class.\n",
        "This is the fastest and simplest way to implement a dataset, but it is **not always feasible**.\n",
        "What if you must train a neural network on 500GB of images?\n",
        "The whole dataset does not fit in memory!\n",
        "\n",
        "For the same reason, using a single file to store the whole dataset does not scale with the dataset size.\n",
        "*Obviously, this depends on the file format used, e.g. it is perfectly fine if we are dealing with `HDF5` files*\n",
        "\n",
        "The `Dataset` abstraction is particularly useful when implementing *lazy loading* policies, that is, when you load each item **only when you need it**.\n",
        "You can even apply some preprocessing on the fly, to each item.\n",
        "\n",
        "One example of how it can be done:\n",
        "\n",
        "```python\n",
        "class LazyDataset(Dataset):\n",
        "\n",
        "  def __init__(self, file_paths: Sequence[Path]):\n",
        "    super().__init__()  \n",
        "    self.file_paths = file_paths\n",
        "\n",
        "  def __len__(self):\n",
        "    return len(self.file_paths)\n",
        "\n",
        "  def __getitem__(self, idx):\n",
        "    sample_path = self.file_paths[idx]\n",
        "\n",
        "    # -> Load sample_path in memory\n",
        "    # -> Perform some lightweight preprocessing\n",
        "    # -> Generate (sample_input, sample_output)\n",
        "\n",
        "    return {\n",
        "        'x': sample_input,\n",
        "        'y': sample_output\n",
        "    }\n",
        "\n",
        "    ### Usually the practice is to return a dictionary!\n",
        "\n",
        "```\n"
      ]
    },
    {
      "cell_type": "code",
      "source": [
        "from torch.utils import Dataset     # We import a class (is a pre-made class)\n",
        "\n",
        "class LazyDataset(Dataset):   # We create a toy-dataset\n",
        "\n",
        "  def __init__(self, file_paths):\n",
        "    super().__init__()    # super refers to the super class => the class that this dataset is inheriting => it initializes + then we costumize\n",
        "    self.file_paths = file_paths   # \"drive/MyDrive/...\"\n",
        "\n",
        "  def __len__(self):\n",
        "    return len(self.file_paths)\n",
        "\n",
        "  def __getitem__(self, index):\n",
        "    ### We create an attribute => x are the inputs, y are the targets\n",
        "    x = np.load(self.file_paths[index] + \"x.npy\")\n",
        "    y = np.load(self.file_paths[index] + \"y.npy\")\n",
        "    return x, y"
      ],
      "metadata": {
        "id": "qt5G-_TvmC1b",
        "colab": {
          "base_uri": "https://localhost:8080/",
          "height": 408
        },
        "outputId": "7720c75f-d530-416d-ce1a-cffebc05e522"
      },
      "execution_count": 2,
      "outputs": [
        {
          "output_type": "error",
          "ename": "ImportError",
          "evalue": "cannot import name 'Dataset' from 'torch.utils' (/usr/local/lib/python3.11/dist-packages/torch/utils/__init__.py)",
          "traceback": [
            "\u001b[0;31m---------------------------------------------------------------------------\u001b[0m",
            "\u001b[0;31mImportError\u001b[0m                               Traceback (most recent call last)",
            "\u001b[0;32m<ipython-input-2-033f917d95cf>\u001b[0m in \u001b[0;36m<cell line: 0>\u001b[0;34m()\u001b[0m\n\u001b[0;32m----> 1\u001b[0;31m \u001b[0;32mfrom\u001b[0m \u001b[0mtorch\u001b[0m\u001b[0;34m.\u001b[0m\u001b[0mutils\u001b[0m \u001b[0;32mimport\u001b[0m \u001b[0mDataset\u001b[0m     \u001b[0;31m# We import a class (is a pre-made class)\u001b[0m\u001b[0;34m\u001b[0m\u001b[0;34m\u001b[0m\u001b[0m\n\u001b[0m\u001b[1;32m      2\u001b[0m \u001b[0;34m\u001b[0m\u001b[0m\n\u001b[1;32m      3\u001b[0m \u001b[0;32mclass\u001b[0m \u001b[0mLazyDataset\u001b[0m\u001b[0;34m(\u001b[0m\u001b[0mDataset\u001b[0m\u001b[0;34m)\u001b[0m\u001b[0;34m:\u001b[0m   \u001b[0;31m# We create a toy-dataset\u001b[0m\u001b[0;34m\u001b[0m\u001b[0;34m\u001b[0m\u001b[0m\n\u001b[1;32m      4\u001b[0m \u001b[0;34m\u001b[0m\u001b[0m\n\u001b[1;32m      5\u001b[0m   \u001b[0;32mdef\u001b[0m \u001b[0m__init__\u001b[0m\u001b[0;34m(\u001b[0m\u001b[0mself\u001b[0m\u001b[0;34m,\u001b[0m \u001b[0mfile_paths\u001b[0m\u001b[0;34m)\u001b[0m\u001b[0;34m:\u001b[0m\u001b[0;34m\u001b[0m\u001b[0;34m\u001b[0m\u001b[0m\n",
            "\u001b[0;31mImportError\u001b[0m: cannot import name 'Dataset' from 'torch.utils' (/usr/local/lib/python3.11/dist-packages/torch/utils/__init__.py)",
            "",
            "\u001b[0;31m---------------------------------------------------------------------------\u001b[0;32m\nNOTE: If your import is failing due to a missing package, you can\nmanually install dependencies using either !pip or !apt.\n\nTo view examples of installing some common dependencies, click the\n\"Open Examples\" button below.\n\u001b[0;31m---------------------------------------------------------------------------\u001b[0m\n"
          ],
          "errorDetails": {
            "actions": [
              {
                "action": "open_url",
                "actionText": "Open Examples",
                "url": "/notebooks/snippets/importing_libraries.ipynb"
              }
            ]
          }
        }
      ]
    },
    {
      "cell_type": "markdown",
      "metadata": {
        "id": "P79iR6q0gIzw"
      },
      "source": [
        "**NOTE**\n",
        "\n",
        "The dataset can return any type of object, you are *not* forced to return a dictionary of tensors:\n",
        "\n"
      ]
    },
    {
      "cell_type": "code",
      "metadata": {
        "id": "nDg1ggjdiMA4"
      },
      "source": [
        "from torch.utils.data import Dataset\n",
        "\n",
        "class AnotherDataset(Dataset):\n",
        "  def __init__(self):\n",
        "    super().__init__()\n",
        "    self.myitems = torch.arange(100)\n",
        "\n",
        "  def __len__(self):\n",
        "    return len(self.myitems)\n",
        "\n",
        "  def __getitem__(self, idx):\n",
        "    return f'Sample{idx}', self.myitems[idx], None, 3.5\n",
        "\n",
        "dataset = AnotherDataset()\n",
        "dataset[5]"
      ],
      "execution_count": null,
      "outputs": []
    },
    {
      "cell_type": "code",
      "source": [
        "dataset[5][1].item()"
      ],
      "metadata": {
        "colab": {
          "base_uri": "https://localhost:8080/"
        },
        "id": "t8F8mhBRjxk8",
        "outputId": "4d0a1654-0e97-409e-a2a5-d30f386ab4d2"
      },
      "execution_count": null,
      "outputs": [
        {
          "output_type": "execute_result",
          "data": {
            "text/plain": [
              "5"
            ]
          },
          "metadata": {},
          "execution_count": 47
        }
      ]
    },
    {
      "cell_type": "markdown",
      "metadata": {
        "id": "zOwlr_u2iLh6"
      },
      "source": [
        "\n",
        "However, it is often useful to return a dictionary of tensors.\n",
        "\n",
        "⚠️ Do *not* return tensors that are stored on the GPU memory, as it [causes problems](https://pytorch.org/docs/stable/data.html#multi-process-data-loading) with the multiprocessing behavior of the DataLoader. We'll see memory pinning as a preferred way, further below.\n",
        "\n",
        "Returning a dictionary of tensors will:\n",
        "\n",
        "- Make your code more readable\n",
        "- Ease the batch creation process: you may use the `DataLoader` default `collate_fn` (we'll see this in a second)"
      ]
    },
    {
      "cell_type": "markdown",
      "source": [
        "### 7.2 Importing data from Google Drive\n",
        "\n",
        "We will have something stored => we have to store it on our google drive the data!\n",
        "\n",
        "Cool, we created a custom dataset. But that example is not particularly useful, since we actually create the data within the Dataset object. Most commonly, we already have our data hosted somewhere.\n",
        "\n",
        "Since we are working with Colab, it is quite convenient to import data from our Google Drive. However, if you were working on your computer the data may be located in some folder on your hard drive.\n",
        "\n",
        "For this exercise, you can copy the data from this [folder](https://drive.google.com/drive/folders/1cIQg6GwSFRZRQ1PyFv6pRdeKxfBCr18F?usp=drive_link).\n",
        "It is a very small (51 image) sample from the [IDDA dataset](https://idda-dataset.github.io/home/).\n",
        "Once you have downloaded this data, put it in your Google Drive.\n",
        "\n",
        "\n",
        "In Colab, you can mount your drive as follows\n",
        "```\n",
        "from google.colab import drive\n",
        "drive.mount(\"/content/drive\")\n",
        "```"
      ],
      "metadata": {
        "id": "d9Dw39F4NpPk"
      }
    },
    {
      "cell_type": "markdown",
      "source": [
        "First, let's try to mount the drive"
      ],
      "metadata": {
        "id": "dewasPX1gpwV"
      }
    },
    {
      "cell_type": "code",
      "source": [
        "from google.colab import drive     # Our drive will become out memmory!\n",
        "drive.mount(\"/content/drive\")"
      ],
      "metadata": {
        "id": "qtkb4SzLY9WS",
        "colab": {
          "base_uri": "https://localhost:8080/"
        },
        "outputId": "c7ed58d8-c74e-4d88-d089-da1ac892100e"
      },
      "execution_count": null,
      "outputs": [
        {
          "output_type": "stream",
          "name": "stdout",
          "text": [
            "Mounted at /content/drive\n"
          ]
        }
      ]
    },
    {
      "cell_type": "markdown",
      "source": [
        "And let's see what is in our drive and if we can find our data."
      ],
      "metadata": {
        "id": "QYs-Yq2rg-S7"
      }
    },
    {
      "cell_type": "code",
      "source": [
        "print(f\"1)\")\n",
        "!pwd #prints the path\n",
        "print()\n",
        "\n",
        "print(f\"2)\")\n",
        "!ls #lists the folders and files at this level\n",
        "print()\n",
        "\n",
        "print(\"3)\")\n",
        "!ls drive/MyDrive/Old\\ stuff #This is where the data is located\n",
        "print()\n",
        "\n",
        "print(\"4)\")\n",
        "!ls drive/MyDrive/Datasets/IDDA_examples/RGB #Here are the images\n",
        "print()\n",
        "\n",
        "print(\"5)\")\n",
        "!ls drive/MyDrive/Datasets/IDDA_examples/SemanticRGB # here are the labels\n",
        "\n",
        "\n",
        "### Always use tge LAZY LOAD!!!"
      ],
      "metadata": {
        "id": "PeSJBWGwhDlo",
        "colab": {
          "base_uri": "https://localhost:8080/"
        },
        "outputId": "db60ac2d-5148-4a74-c5a9-8310104e0365"
      },
      "execution_count": null,
      "outputs": [
        {
          "output_type": "stream",
          "name": "stdout",
          "text": [
            "1)\n",
            "/content\n",
            "\n",
            "2)\n",
            "data  drive  sample_data\n",
            "\n",
            "3)\n",
            " Ballo.pdf\t\t\t        IMG_8459.JPG\n",
            " Basi_di_dati.pdf\t\t        IMG_8484.JPG\n",
            "'Definizioni 1.gdoc'\t\t        IMG_8489.JPG\n",
            "'Diretta Halloween DJ set.mp4'\t        IMG_8498.JPG\n",
            "'Disegno senza titolo.gdraw'\t        IMG_8509.JPG\n",
            " family.jpg\t\t\t        IMG_8510.JPG\n",
            "'Fanta basket_1.pdf'\t\t        IMG_8515.JPG\n",
            "'Fanta basket.pdf'\t\t        IMG.pdf\n",
            " Fantabasket.pdf\t\t        immagine.png\n",
            " Fly.mp3\t\t\t       'Link Modulistica ASL.odt (Recuperato).gdoc'\n",
            "'Foglio di lavoro senza nome.gsheet'   'Relazione velocità di reazione.docx'\n",
            "'Foto da aless marinai'\t\t       'Relazione velocità di reazione.docx.gdoc'\n",
            "'Foto da aless marinai2'\t        Screenshot_2018-09-05-22-10-06.png\n",
            "'fyd-nktz-sfh - 22 gen 2022.gjam'       TOp.pdf\n",
            "'fyd-nktz-sfh - 22 gen 2022.pdf'       'Uffizi-Ambasciatori del Verde    fin.doc'\n",
            "'ifu-uvab-yxp - 10 dic 2021 (1).gjam'  'Untitled 1.odt'\n",
            "'ifu-uvab-yxp - 10 dic 2021 (1).pdf'    video-2015-01-23-21-32-45.mp4\n",
            "'ifu-uvab-yxp - 10 dic 2021.gjam'       video-2015-01-24-07-20-16.mp4\n",
            "'ifu-uvab-yxp - 10 dic 2021.pdf'        video-2015-01-24-07-47-40.mp4\n",
            "'IMG_20180525_191056 (1).jpg'\t        video-2015-01-24-07-50-52.mp4\n",
            " IMG_20180525_191056.jpg\t        video-2015-01-24-07-55-12.mp4\n",
            " IMG_20180601_114609.jpg\t        video-2015-01-24-07-58-48.mp4\n",
            " IMG_20190203_124134.jpg\t        video-2015-01-24-13-55-44.mp4\n",
            " IMG-20190203-WA0014.jpg\t        video-2015-01-25-09-52-39.mp4\n",
            " IMG_2098.MOV\t\t\t       'Video da parte di aless marinai'\n",
            " IMG_8455.JPG\t\t\t       'Video da parte di aless marinai (1)'\n",
            "\n",
            "4)\n",
            "ls: cannot access 'drive/MyDrive/Datasets/IDDA_examples/RGB': No such file or directory\n",
            "\n",
            "5)\n",
            "ls: cannot access 'drive/MyDrive/Datasets/IDDA_examples/SemanticRGB': No such file or directory\n"
          ]
        }
      ]
    },
    {
      "cell_type": "markdown",
      "source": [
        "Now, let's read the paths of the images present in the folder and put them in a list.\n",
        "We can do this in different ways. For example, we can use the [os](https://docs.python.org/3/library/os.html) package or the [pathlib](https://docs.python.org/3/library/pathlib.html) package"
      ],
      "metadata": {
        "id": "xW7mv9YtiSe_"
      }
    },
    {
      "cell_type": "code",
      "source": [
        "# @title Using pathlib and glob\n",
        "from pathlib import Path\n",
        "\n",
        "image_path = Path(\"drive/MyDrive/Datasets/IDDA_examples/\")\n",
        "image_path_list = list(image_path.glob(\"RGB/*.jpg\"))\n",
        "print(image_path_list)\n"
      ],
      "metadata": {
        "id": "b1nLkVhWZNnd"
      },
      "execution_count": null,
      "outputs": []
    },
    {
      "cell_type": "code",
      "source": [
        "# @title Using os\n",
        "import os\n",
        "\n",
        "image_path = \"drive/MyDrive/Datasets/IDDA_examples/\"\n",
        "for dirpath, dirnames, filenames in os.walk(image_path+\"/RGB\"):\n",
        "  print(filenames)\n",
        "print()\n",
        "\n",
        "image_paths = os.listdir(image_path+\"/RGB\")\n",
        "print(image_paths)\n",
        "\n",
        "#Question: how can we exclude from the list the files that are not images?"
      ],
      "metadata": {
        "id": "saQobM6K8cq_"
      },
      "execution_count": null,
      "outputs": []
    },
    {
      "cell_type": "code",
      "source": [
        "# @title Soluzione\n",
        "import os\n",
        "\n",
        "image_path = \"drive/MyDrive/Datasets/IDDA_examples/\"\n",
        "image_paths = [x for x in os.listdir(image_path+\"/RGB\") if x.endswith(\".jpg\")]\n",
        "print(image_paths)"
      ],
      "metadata": {
        "id": "PsajMhXC_XuE"
      },
      "execution_count": null,
      "outputs": []
    },
    {
      "cell_type": "markdown",
      "source": [
        "Finally, let's create our custom dataset with the data that we have copied to our Drive. We will use the lazy approach, storing in the class not directly the data, but rather the paths to where it is stored."
      ],
      "metadata": {
        "id": "NoihVKUuvjxE"
      }
    },
    {
      "cell_type": "markdown",
      "source": [
        "### 7.3 Example: Custom Dataset from our Google Drive data"
      ],
      "metadata": {
        "id": "xAA0SagCiR_x"
      }
    },
    {
      "cell_type": "code",
      "source": [
        "from PIL import Image\n",
        "\n",
        "class IDDADataset(Dataset):\n",
        "\n",
        "  def __init__(self, data_path):\n",
        "    super().__init__()\n",
        "    self.image_path = data_path+\"/RGB/\"\n",
        "    self.label_path = data_path+\"/SemanticRGB/\"\n",
        "    self.images_list = [x for x in os.listdir(self.image_path) if x.endswith(\".jpg\")]\n",
        "    self.labels_list = [x for x in os.listdir(self.label_path) if x.endswith(\".jpg\")]\n",
        "\n",
        "  def __len__(self):\n",
        "    return len(self.file_paths)\n",
        "\n",
        "  def __getitem__(self, idx):\n",
        "    x_path = self.images_list[idx]\n",
        "    y_path = self.labels_list[idx]\n",
        "\n",
        "    # -> Load sample_path in memory\n",
        "    x = np.array(Image.open(self.image_path+x_path))\n",
        "    y = np.array(Image.open(self.label_path+y_path))\n",
        "\n",
        "    # -> Generate (sample_input, sample_output)\n",
        "    return {\n",
        "        'x': x,\n",
        "        'y': y\n",
        "    }\n",
        "\n",
        "idda_dataset = IDDADataset(\"drive/MyDrive/Datasets/IDDA_examples/\")"
      ],
      "metadata": {
        "id": "nk_jAUbsZpOJ"
      },
      "execution_count": null,
      "outputs": []
    },
    {
      "cell_type": "markdown",
      "source": [
        "Let's try and visualize a sample from our Custom Dataset"
      ],
      "metadata": {
        "id": "EUgMRJb2ir1Q"
      }
    },
    {
      "cell_type": "code",
      "source": [
        "idda_dataset = IDDADataset(\"drive/MyDrive/Datasets/IDDA_examples/\")\n",
        "N = 5\n",
        "img = idda_dataset[N][\"x\"]\n",
        "label = idda_dataset[N][\"y\"]\n",
        "print(img.shape)\n",
        "print(label.shape)\n",
        "\n",
        "\n",
        "figure = plt.figure(figsize=(8, 8))\n",
        "\n",
        "figure.add_subplot(1, 2, 1)\n",
        "plt.title(\"Immagine\")\n",
        "plt.axis(\"off\")\n",
        "plt.imshow(img)\n",
        "\n",
        "figure.add_subplot(1, 2, 2)\n",
        "plt.title(\"Ground truth\")\n",
        "plt.axis(\"off\")\n",
        "plt.imshow(label)\n",
        "\n",
        "plt.show()"
      ],
      "metadata": {
        "id": "PWFX-Es6BifR"
      },
      "execution_count": null,
      "outputs": []
    },
    {
      "cell_type": "markdown",
      "source": [
        "### 7.4 DatasetFolder and ImageFolder\n",
        "What we have seen in the previous section is a very general way for creating a custom dataset from our own data.\n",
        "It turns out that for a multiclass classification task, PyTorch already provides some utilities to create a dataset giving as parameter the folders where the data is stored.\n",
        "\n",
        "[`DatasetFolder`](https://pytorch.org/vision/stable/generated/torchvision.datasets.DatasetFolder.html#torchvision.datasets.DatasetFolder)is a dataloader  that expects a certain directory structure can be customized by overriding the `find_classes()` method.\n",
        "\n",
        "This is the kind of directory structure that it expects.\n",
        "```\n",
        "directory/\n",
        "├── class_x\n",
        "│   ├── xxx.ext\n",
        "│   ├── xxy.ext\n",
        "│   └── ...\n",
        "│       └── xxz.ext\n",
        "└── class_y\n",
        "    ├── 123.ext\n",
        "    ├── nsdf3.ext\n",
        "    └── ...\n",
        "    └── asd932_.ext\n",
        "```\n",
        "As you can see, the data is divided in folders, each folder corresponding to a class. For the custom dataset that we used, we could not use this method since it is not data formatted for a classification task.\n",
        "\n",
        "The [`ImageFolder`](https://pytorch.org/vision/stable/generated/torchvision.datasets.ImageFolder.html#torchvision.datasets.ImageFolder) operates similarly, but it is specific for images.\n",
        "It expects the following directory structure\n",
        "\n",
        "```\n",
        "root/dog/xxx.png\n",
        "root/dog/xxy.png\n",
        "root/dog/[...]/xxz.png\n",
        "\n",
        "root/cat/123.png\n",
        "root/cat/nsdf3.png\n",
        "root/cat/[...]/asd932_.png\n"
      ],
      "metadata": {
        "id": "D0ju7BKfjMKd"
      }
    },
    {
      "cell_type": "markdown",
      "source": [
        "## 8 📓 Exercise: Create a Custom Dataset\n",
        "\n",
        "Try to put in practice the things we have see so far.\n",
        "First things first we need some data.\n",
        "And like any good cooking show, some data has already been prepared for us.\n",
        "\n",
        "The data we're going to be using is a subset of the [Food101 dataset](https://data.vision.ee.ethz.ch/cvl/datasets_extra/food-101/).\n",
        "Food101 is popular computer vision benchmark as it contains 1000 images of 101 different kinds of foods, totaling 101,000 images (75,750 train and 25,250 test).\n",
        "\n",
        "Instead of 101 food classes though, we're going to start with 3: pizza, steak and sushi.\n",
        "And instead of 1,000 images per class, we're going to start with a random 10% (start small, increase when necessary).\n",
        "Here you can [download the data](https://drive.google.com/drive/folders/1JaYA4aOWeCLhd-jYjVHgOiPcnSu0JR96?usp=sharing) and copy it to your Google Drive.\n",
        "\n",
        "> **Note:** This dataset has been pre-formatted for a multi-class classification task and has the following directory structure\n",
        "```\n",
        "pizza_steak_sushi/ <- overall dataset folder\n",
        "    train/ <- training images\n",
        "        pizza/ <- class name as folder name\n",
        "            image01.jpeg\n",
        "            image02.jpeg\n",
        "            ...\n",
        "        steak/\n",
        "            image24.jpeg\n",
        "            image25.jpeg\n",
        "            ...\n",
        "        sushi/\n",
        "            image37.jpeg\n",
        "            ...\n",
        "    test/ <- testing images\n",
        "        pizza/\n",
        "            image101.jpeg\n",
        "            image102.jpeg\n",
        "            ...\n",
        "        steak/\n",
        "            image154.jpeg\n",
        "            image155.jpeg\n",
        "            ...\n",
        "        sushi/\n",
        "            image167.jpeg\n",
        "            ...\n",
        "```\n",
        "So you could try both to create a Custom Dataset as we have seen, or also try to use the ImageFolder method (which we have not tried).\n",
        "\n",
        "What you should do:\n",
        "1. load the data and mount your drive\n",
        "2. create a dataset\n",
        "3. check the dataset and visualize some data samples\n",
        "4. create a dataloader\n"
      ],
      "metadata": {
        "id": "7hDyKzYImCKu"
      }
    },
    {
      "cell_type": "code",
      "source": [
        "# your code here"
      ],
      "metadata": {
        "id": "N2L143a5mY6T"
      },
      "execution_count": null,
      "outputs": []
    },
    {
      "cell_type": "markdown",
      "source": [
        "## 9 Data Transforms\n",
        "Data does not always come in its final processed form that is required for training machine learning algorithms. We use transforms to perform some manipulation of the data and make it suitable for training.\n",
        "\n",
        "For example, the FashionMNIST features are in PIL Image format, and the labels are integers. For training, we need the features as normalized tensors, and the labels as one-hot encoded tensors.\n",
        "\n",
        "*How can we do this?*\n",
        "```\n",
        "train_data = datasets.FashionMNIST(\n",
        "    root=\"data\",\n",
        "    train=True,\n",
        "    download=True,\n",
        "    transform=ToTensor()\n",
        ")\n",
        "```\n",
        "We can use transforms. Let's see an example and then comment it."
      ],
      "metadata": {
        "id": "Fn19TL-4oJtU"
      }
    },
    {
      "cell_type": "code",
      "source": [
        "import torch\n",
        "from torchvision import datasets\n",
        "from torchvision.transforms import ToTensor, Lambda\n",
        "\n",
        "ds = datasets.FashionMNIST(\n",
        "    root=\"data\",\n",
        "    train=True,\n",
        "    download=True,\n",
        "    transform=ToTensor(),      # TRANSFORM will be applied to each sample of our dataset 0> We have to always transfor to a tensor\n",
        "             # Is the transform of x\n",
        "    target_transform=Lambda(lambda y: torch.zeros(10, dtype=torch.float).scatter_(0, torch.tensor(y), value=1))\n",
        "             # We have to define also a target_transform (it is Optional[Callable] it means that it has to be a method, we don't pass a variable)\n",
        "             # This will be the transofrm of the y\n",
        ")"
      ],
      "metadata": {
        "id": "AuoXzU1GwTZh"
      },
      "execution_count": null,
      "outputs": []
    },
    {
      "cell_type": "markdown",
      "source": [
        "#### ToTensor\n",
        "[`ToTensor()`](https://pytorch.org/tutorials/beginner/basics/transforms_tutorial.html) is a PyTorch builtin transformation that converts a PIL image or NumPy `ndarray` into a `FloatTensor`. and scales the image's pixel intensity values in the range [0., 1.]"
      ],
      "metadata": {
        "id": "hx-hbmCWvjRv"
      }
    },
    {
      "cell_type": "markdown",
      "source": [
        "#### Lambda Transforms\n",
        "Lambda transforms apply any user-defined lambda function.\n",
        "\n",
        "For example, we can define a function to turn the integer into a one-hot encoded tensor. It first creates a zero tensor of size 10 (the number of labels in our dataset) and calls `scatter_` which assigns a value=1 on the index as given by the label `y`."
      ],
      "metadata": {
        "id": "AU3h6JDov-tB"
      }
    },
    {
      "cell_type": "markdown",
      "source": [
        "Now, let's check a sample from our dataset"
      ],
      "metadata": {
        "id": "T_mBsIYEwbrp"
      }
    },
    {
      "cell_type": "code",
      "source": [
        "ds[0]\n",
        "\n",
        "# We have 1 just in an entrance => this will be the correct index\n",
        "# MULTICLASSIFICATION will give back a probability vector where each value is a probability according to the model to belong to the corresponding class"
      ],
      "metadata": {
        "id": "sJgsIDUxweyF",
        "colab": {
          "base_uri": "https://localhost:8080/",
          "height": 179
        },
        "outputId": "c5e460de-426e-4b35-dd8f-a8ef070016e6"
      },
      "execution_count": 1,
      "outputs": [
        {
          "output_type": "error",
          "ename": "NameError",
          "evalue": "name 'ds' is not defined",
          "traceback": [
            "\u001b[0;31m---------------------------------------------------------------------------\u001b[0m",
            "\u001b[0;31mNameError\u001b[0m                                 Traceback (most recent call last)",
            "\u001b[0;32m<ipython-input-1-ce925002d077>\u001b[0m in \u001b[0;36m<cell line: 0>\u001b[0;34m()\u001b[0m\n\u001b[0;32m----> 1\u001b[0;31m \u001b[0mds\u001b[0m\u001b[0;34m[\u001b[0m\u001b[0;36m0\u001b[0m\u001b[0;34m]\u001b[0m\u001b[0;34m\u001b[0m\u001b[0;34m\u001b[0m\u001b[0m\n\u001b[0m\u001b[1;32m      2\u001b[0m \u001b[0;34m\u001b[0m\u001b[0m\n\u001b[1;32m      3\u001b[0m \u001b[0;31m# We have 1 just in an entrance => this will be the correct index\u001b[0m\u001b[0;34m\u001b[0m\u001b[0;34m\u001b[0m\u001b[0m\n",
            "\u001b[0;31mNameError\u001b[0m: name 'ds' is not defined"
          ]
        }
      ]
    },
    {
      "cell_type": "markdown",
      "source": [
        "Clearly, this works only when we load an existing dataset from PyTorch,\n",
        "When we create a custom dataset, we should apply the transformation to the data ourselves.\n",
        "\n",
        "When working with images, such as in the examples we have seen so far, we can rely on several existing transformations from the `torchvision.transforms` module.\n",
        "`torchvision.transforms` contains many pre-built methods for formatting images, turning them into tensors and even manipulating them for **data augmentation** (the practice of altering data to make it harder for a model to learn, we'll see this later on) purposes.\n",
        "\n",
        "To get experience with `torchvision.transforms`, let's write a series of transform steps that:\n",
        "1. Resize the images using [`transforms.Resize()`](https://pytorch.org/vision/stable/generated/torchvision.transforms.Resize.html#torchvision.transforms.Resize) (from about 512x512 to 64x64, the same shape as the images on the [CNN Explainer website](https://poloclub.github.io/cnn-explainer/)).\n",
        "2. Flip our images randomly on the horizontal using [`transforms.RandomHorizontalFlip()`](https://pytorch.org/vision/stable/generated/torchvision.transforms.RandomHorizontalFlip.html#torchvision.transforms.RandomHorizontalFlip) (this could be considered a form of data augmentation because it will artificially change our image data).\n",
        "3. Turn our images from a PIL image to a PyTorch tensor using [`transforms.ToTensor()`](https://pytorch.org/vision/stable/generated/torchvision.transforms.ToTensor.html#torchvision.transforms.ToTensor).\n",
        "\n",
        "We can compile all of these steps using [`torchvision.transforms.Compose()`](https://pytorch.org/vision/stable/generated/torchvision.transforms.Compose.html#torchvision.transforms.Compose)."
      ],
      "metadata": {
        "id": "CsYPbrNqw835"
      }
    },
    {
      "cell_type": "code",
      "source": [
        "from torchvision import transforms\n",
        "\n",
        "\n",
        "# Write transform for image\n",
        "data_transform = transforms.Compose([\n",
        "    # Resize the images to 64x64\n",
        "    transforms.Resize(size=(64, 64)),       # RESIZE IF THE IMMAGES ARE OF DIFFERENT SIZES => we have to resize them all with the same size!\n",
        "    # Flip the images randomly on the horizontal\n",
        "\n",
        "    ### Usually we odn't have enough data or we would wish to have more!\n",
        "    ### We can do an AUGMENTATION => we will randomly horizzontaly flip the immage orizzontali => Semanthically it does not change the immage, but for the will be a new immage\n",
        "    transforms.RandomHorizontalFlip(p=0.5), # p = probability of flip, 0.5 = 50% chance\n",
        "    # Turn the image into a torch.Tensor\n",
        "    transforms.ToTensor() # this also converts all pixel values from 0 to 255 to be between 0.0 and 1.0\n",
        "])"
      ],
      "metadata": {
        "id": "cWx72eBUyMVy"
      },
      "execution_count": null,
      "outputs": []
    },
    {
      "cell_type": "markdown",
      "source": [
        "Now we've got a composition of transforms, let's write a function to try them out on various images."
      ],
      "metadata": {
        "id": "xvHJbpGQyYDV"
      }
    },
    {
      "cell_type": "code",
      "source": [
        "ds = datasets.FashionMNIST(\n",
        "    root=\"data\",\n",
        "    train=True,\n",
        "    download=True,\n",
        "    transform=data_transform,\n",
        "    target_transform=Lambda(lambda y: torch.zeros(10, dtype=torch.float).scatter_(0, torch.tensor(y), value=1))\n",
        ")\n",
        "\n",
        "img, label = ds[0]\n",
        "plt.imshow(img.squeeze(), cmap=\"gray\")"
      ],
      "metadata": {
        "id": "q7pZvPBOyvVw",
        "colab": {
          "base_uri": "https://localhost:8080/",
          "height": 449
        },
        "outputId": "ba381f85-1a3e-4309-ecd1-c14c8e990d04"
      },
      "execution_count": null,
      "outputs": [
        {
          "output_type": "execute_result",
          "data": {
            "text/plain": [
              "<matplotlib.image.AxesImage at 0x7a9d96d04ed0>"
            ]
          },
          "metadata": {},
          "execution_count": 57
        },
        {
          "output_type": "display_data",
          "data": {
            "text/plain": [
              "<Figure size 640x480 with 1 Axes>"
            ],
            "image/png": "[encoded data removed]"
          },
          "metadata": {}
        }
      ]
    },
    {
      "cell_type": "markdown",
      "source": [
        "Now, let's try to use this same transform with our custom dataset"
      ],
      "metadata": {
        "id": "Vy7Cewx9zIs_"
      }
    },
    {
      "cell_type": "code",
      "source": [
        "class IDDADataset(Dataset):\n",
        "\n",
        "  def __init__(self, data_path, data_transform, target_transform): #we pass the transform as argument\n",
        "    super().__init__()\n",
        "    self.image_path = data_path+\"/RGB/\"\n",
        "    self.label_path = data_path+\"/SemanticRGB/\"\n",
        "    self.images_list = [x for x in os.listdir(self.image_path) if x.endswith(\".jpg\")]\n",
        "    self.labels_list = [x for x in os.listdir(self.label_path) if x.endswith(\".jpg\")]\n",
        "    self.data_transform = data_transform\n",
        "    self.target_transform = target_transform\n",
        "\n",
        "  def __len__(self):\n",
        "    return len(self.file_paths)\n",
        "\n",
        "  def __getitem__(self, idx):\n",
        "    x_path = self.images_list[idx]\n",
        "    y_path = self.labels_list[idx]\n",
        "\n",
        "    # -> Load sample_path in memory\n",
        "    x = self.data_transform(Image.open(self.image_path+x_path))\n",
        "    y = self.target_transform(Image.open(self.label_path+y_path))\n",
        "\n",
        "    # -> Generate (sample_input, sample_output)\n",
        "    return {\n",
        "        'x': x,\n",
        "        'y': y\n",
        "    }\n",
        "\n",
        "\n",
        "idda_dataset = IDDADataset(\"drive/MyDrive/Datasets/IDDA_examples/\", data_transform, transforms.ToTensor())\n",
        "N = 5\n",
        "img = idda_dataset[N][\"x\"]\n",
        "label = idda_dataset[N][\"y\"]\n",
        "print(img.shape)\n",
        "print(label.shape)\n",
        "\n",
        "figure = plt.figure(figsize=(8, 8))\n",
        "figure.add_subplot(1, 2, 1)\n",
        "plt.title(\"Immagine\")\n",
        "plt.axis(\"off\")\n",
        "plt.imshow(torch.permute(img, (1,2,0)))\n",
        "figure.add_subplot(1, 2, 2)\n",
        "plt.title(\"Ground truth\")\n",
        "plt.axis(\"off\")\n",
        "plt.imshow(torch.permute(label, (1,2,0)))\n",
        "plt.show()"
      ],
      "metadata": {
        "id": "oyng3ZQgzUG6"
      },
      "execution_count": null,
      "outputs": []
    },
    {
      "cell_type": "code",
      "source": [],
      "metadata": {
        "id": "IDZf9BlNQ3CN"
      },
      "execution_count": null,
      "outputs": []
    },
    {
      "cell_type": "markdown",
      "metadata": {
        "id": "SYYP8rCj2-Ae"
      },
      "source": [
        "## 10 🛑 Optional: Memory pinning"
      ]
    },
    {
      "cell_type": "markdown",
      "metadata": {
        "id": "GRqZeY_A1Ink"
      },
      "source": [
        "Pytorch tensors support [memory pinning](https://devblogs.nvidia.com/how-optimize-data-transfers-cuda-cc/):"
      ]
    },
    {
      "cell_type": "markdown",
      "metadata": {
        "id": "T1BIKzR36fww"
      },
      "source": [
        "![](https://devblogs.nvidia.com/wp-content/uploads/2012/12/pinned-1024x541.jpg)"
      ]
    },
    {
      "cell_type": "markdown",
      "source": [
        "PIN MEMORY => we know that something will be needed a lot of times so we say to our memory manager to keep it very close to our \"DRAM MEMORY\" where the things happen. We force that data to be in the closes layer to the DRAM so when we will be accessing them, it will be faster!\n",
        "<br>\n",
        "By default a tensor is not pinned."
      ],
      "metadata": {
        "id": "YCoW5ShmaxC-"
      }
    },
    {
      "cell_type": "markdown",
      "metadata": {
        "id": "84rs4T_66ffq"
      },
      "source": [
        "\n",
        "Pinned tensors enable:\n",
        "- **Much faster copies** from CPU to GPU.\n",
        "- **Aynchronous GPU copies**: *while* the tensor is being transferred, the code continues if it doesn't need that tensor! To enable this, just pass an additional **`non_blocking=True`** argument to a `to()` or a `cuda()` call.  (**gpu operations are [asynchronous](https://pytorch.org/docs/stable/notes/cuda.html#asynchronous-execution) by default**)\n",
        "\n",
        "Given a tensor you can manually pin it:"
      ]
    },
    {
      "cell_type": "markdown",
      "source": [
        "!!! Every time we change from CPU to GPU all the variables in emmory are deleatd => so we must set everything that we want at the beginning !!!"
      ],
      "metadata": {
        "id": "-NEeFOEbb8nl"
      }
    },
    {
      "cell_type": "code",
      "metadata": {
        "id": "tF0GVdOq3tnG",
        "colab": {
          "base_uri": "https://localhost:8080/"
        },
        "outputId": "70c5828e-f002-4a6f-bd3d-80e00c44b61b"
      },
      "source": [
        "import torch\n",
        "t = torch.rand(100)\n",
        "t.is_pinned()"
      ],
      "execution_count": null,
      "outputs": [
        {
          "output_type": "execute_result",
          "data": {
            "text/plain": [
              "False"
            ]
          },
          "metadata": {},
          "execution_count": 2
        }
      ]
    },
    {
      "cell_type": "code",
      "metadata": {
        "id": "6p_mlBoh3p-a"
      },
      "source": [
        "# be sure to use a GPU runtime, otherwise there's nothing to pin for!\n",
        "\n",
        "t = t.pin_memory()  # reassigning to t, because pin_memory() is not in-place"
      ],
      "execution_count": null,
      "outputs": []
    },
    {
      "cell_type": "code",
      "metadata": {
        "id": "kgFj15grDJPl",
        "colab": {
          "base_uri": "https://localhost:8080/"
        },
        "outputId": "343e028b-87c2-4856-c7b6-e52a0c7abf54"
      },
      "source": [
        "t.is_pinned()"
      ],
      "execution_count": null,
      "outputs": [
        {
          "output_type": "execute_result",
          "data": {
            "text/plain": [
              "True"
            ]
          },
          "metadata": {},
          "execution_count": 4
        }
      ]
    },
    {
      "cell_type": "markdown",
      "metadata": {
        "id": "nY2UFPT14EkF"
      },
      "source": [
        "Passing `pin_memory=True` to a `DataLoader` will automatically put the fetched data tensors in pinned memory, enabling faster data transfer to CUDA-enabled GPUs.\n",
        "\n",
        "`DataLoader` only knows how to pin the standard types returned by `Dataset`; this includes Tensor, Map and Sequence of Tensors. If you want to pin some custom type, read more [here](https://pytorch.org/docs/stable/data.html#memory-pinning) (tldr: define a `pin_memory()` method on your custom type(s))."
      ]
    },
    {
      "cell_type": "code",
      "metadata": {
        "id": "5gNnoz6U5sMz",
        "colab": {
          "base_uri": "https://localhost:8080/",
          "height": 141
        },
        "outputId": "d20e9fab-8141-4bac-e3c7-9814bda0baf1"
      },
      "source": [
        "batch['x'].is_pinned()"
      ],
      "execution_count": null,
      "outputs": [
        {
          "output_type": "error",
          "ename": "NameError",
          "evalue": "name 'batch' is not defined",
          "traceback": [
            "\u001b[0;31m---------------------------------------------------------------------------\u001b[0m",
            "\u001b[0;31mNameError\u001b[0m                                 Traceback (most recent call last)",
            "\u001b[0;32m<ipython-input-5-9e52c1e45c3f>\u001b[0m in \u001b[0;36m<cell line: 0>\u001b[0;34m()\u001b[0m\n\u001b[0;32m----> 1\u001b[0;31m \u001b[0mbatch\u001b[0m\u001b[0;34m[\u001b[0m\u001b[0;34m'x'\u001b[0m\u001b[0;34m]\u001b[0m\u001b[0;34m.\u001b[0m\u001b[0mis_pinned\u001b[0m\u001b[0;34m(\u001b[0m\u001b[0;34m)\u001b[0m\u001b[0;34m\u001b[0m\u001b[0;34m\u001b[0m\u001b[0m\n\u001b[0m",
            "\u001b[0;31mNameError\u001b[0m: name 'batch' is not defined"
          ]
        }
      ]
    },
    {
      "cell_type": "markdown",
      "metadata": {
        "id": "Q4l1TIvepi6H"
      },
      "source": [
        "### Troubleshooting bottlenecks\n",
        "Make sure the data loading is **not a bottleneck** in your pipeline.\n",
        "Your GPU must not **wait for data**.\n",
        "\n"
      ]
    },
    {
      "cell_type": "markdown",
      "metadata": {
        "id": "zFEIytCKlMsQ"
      },
      "source": [
        "#### How to check if your data loading is a bottleneck?\n",
        "\n",
        "##### **Check resource usage**\n",
        "\n",
        "Check the GPU (or CPU) usage, if it is ~$100\\%$ it is being fully utilised. This is good!\n",
        "\n",
        "Otherwise you may have a bottleneck somewhere, or your data operations may not be GPU friendly (e.g. small batches).\n",
        "\n",
        "\n",
        "##### **Check data loading speed**\n",
        "\n",
        "Iterate over the `Dataset` or `DataLoader` and check the data loading speed by counting the number of items that are loaded per second. Then compare this to how many items per second are processed by the rest of the pipeline.\n",
        "\n",
        "If you can load more items than you can process in the training loop, it means you _don't_ have a bottleneck in your data loading. The GPU is not waiting for you, good job!\n",
        "\n",
        "You can use the [tqdm](https://github.com/tqdm/tqdm) package to easily check the iteration speed of any iterable with a minimal overhead."
      ]
    },
    {
      "cell_type": "code",
      "metadata": {
        "id": "-PLGSqUenoTz",
        "colab": {
          "base_uri": "https://localhost:8080/",
          "height": 211
        },
        "outputId": "eda8c564-c820-4551-fa29-5dac52289da0"
      },
      "source": [
        "# Checking the loading speed\n",
        "from tqdm.notebook import tqdm as tqdm  # just a progress bar\n",
        "\n",
        "toydataset = ToyDataset(20000)\n",
        "toyloader = DataLoader(toydataset,\n",
        "                       batch_size=8,    # number of elements in each batch\n",
        "                       shuffle=True,    # shuffle the dataset\n",
        "                       num_workers=4,   # number of workers, i.e. batches to prefetch\n",
        "                       pin_memory=True  # return memory pinnded tensors\n",
        "                       )\n",
        "for batch in tqdm(toyloader):\n",
        "  pass\n",
        "\n",
        "# Example:\n",
        "# tqdm reports 350.00it/s (iterations per second) for the loader.\n",
        "# tqdm reports 280.12it/s for the training step given the data.\n",
        "# -> data loading is NOT a bottleneck!\n",
        "#\n",
        "# This scenario means your computation time is the primary factor in how long\n",
        "# each iteration takes, and the data loading process is efficient enough to keep\n",
        "# up with the computational demands."
      ],
      "execution_count": null,
      "outputs": [
        {
          "output_type": "error",
          "ename": "NameError",
          "evalue": "name 'ToyDataset' is not defined",
          "traceback": [
            "\u001b[0;31m---------------------------------------------------------------------------\u001b[0m",
            "\u001b[0;31mNameError\u001b[0m                                 Traceback (most recent call last)",
            "\u001b[0;32m<ipython-input-6-e29dcc63f4af>\u001b[0m in \u001b[0;36m<cell line: 0>\u001b[0;34m()\u001b[0m\n\u001b[1;32m      2\u001b[0m \u001b[0;32mfrom\u001b[0m \u001b[0mtqdm\u001b[0m\u001b[0;34m.\u001b[0m\u001b[0mnotebook\u001b[0m \u001b[0;32mimport\u001b[0m \u001b[0mtqdm\u001b[0m \u001b[0;32mas\u001b[0m \u001b[0mtqdm\u001b[0m  \u001b[0;31m# just a progress bar\u001b[0m\u001b[0;34m\u001b[0m\u001b[0;34m\u001b[0m\u001b[0m\n\u001b[1;32m      3\u001b[0m \u001b[0;34m\u001b[0m\u001b[0m\n\u001b[0;32m----> 4\u001b[0;31m \u001b[0mtoydataset\u001b[0m \u001b[0;34m=\u001b[0m \u001b[0mToyDataset\u001b[0m\u001b[0;34m(\u001b[0m\u001b[0;36m20000\u001b[0m\u001b[0;34m)\u001b[0m\u001b[0;34m\u001b[0m\u001b[0;34m\u001b[0m\u001b[0m\n\u001b[0m\u001b[1;32m      5\u001b[0m toyloader = DataLoader(toydataset,\n\u001b[1;32m      6\u001b[0m                        \u001b[0mbatch_size\u001b[0m\u001b[0;34m=\u001b[0m\u001b[0;36m8\u001b[0m\u001b[0;34m,\u001b[0m    \u001b[0;31m# number of elements in each batch\u001b[0m\u001b[0;34m\u001b[0m\u001b[0;34m\u001b[0m\u001b[0m\n",
            "\u001b[0;31mNameError\u001b[0m: name 'ToyDataset' is not defined"
          ]
        }
      ]
    },
    {
      "cell_type": "markdown",
      "metadata": {
        "id": "DUhUSCRNoTQb"
      },
      "source": [
        "#### How to fix a bottleneck in the data loading?\n",
        "\n",
        "##### 1) **Use in-memory datasets**\n",
        "If your dataset fits on memory, load the whole dataset in memory.\n",
        "\n",
        "##### 2) **Tune DataLoader parameters**\n",
        "Tune the `num_workers` and `batch_size` parameter of the `DataLoader`, paying attention that the batch size will have a direct impact on the training. A good default for `num_workers` is the number of cores in your CPU.\n",
        "\n",
        "##### 3) **Do not preprocess on the fly**\n",
        "If you need preprocessing for your files, save the preprocessed files to disk.\n",
        "\n",
        "##### 4) **Speed up raw file loading**\n",
        "If even just loading the files from disk is slow, consider changing the way in which the files are stored (e.g. another [format](https://www.h5py.org/) or a [database](https://github.com/google/leveldb))."
      ]
    },
    {
      "cell_type": "markdown",
      "metadata": {
        "id": "34YGEYsZyBvS"
      },
      "source": [
        "> **NOTE**\n",
        ">\n",
        "> You can read much more on the `torch.utils.data` package [here](https://pytorch.org/docs/stable/data.html).\n",
        ">\n",
        "> Moreover, keep in mind that the [`torchvision`](https://pytorch.org/vision/stable/index.html) package provides some common datasets and transforms. We'll use it next week!"
      ]
    },
    {
      "cell_type": "markdown",
      "metadata": {
        "id": "JiCv7axFUEel"
      },
      "source": [
        "## 11 📓 Optional Exercise\n",
        "\n",
        "You want to create a neural network that is able to learn how to recover corrupted images from the [CIFAR10](https://www.cs.toronto.edu/~kriz/cifar.html) dataset. That is, given as input a corrupted image, the model outputs a corresponding uncorrupted version.\n",
        "\n",
        "You are free to choose the type of corruption to apply. Possible examples are: random noise, random black patches, random crop, random reflections, all the previous together.\n",
        "\n",
        "1. Think about the data pipeline this model would require. What should the dataset return?\n",
        "2. Create the `Dataset` and `DataLoader` to implement it.\n",
        "3. Plot the images in a **batch** to ensure you are doing everything right.\n",
        "4. Try to apply various transformations to the data\n",
        "\n",
        "*hint*: you may use [`torchvision.datasets`](https://pytorch.org/vision/stable/datasets.html) and [`torchvision.transforms`](https://pytorch.org/vision/stable/transforms.html)"
      ]
    },
    {
      "cell_type": "code",
      "source": [
        "# ✏️ your code here"
      ],
      "metadata": {
        "id": "CuCHY0Zb-9pH"
      },
      "execution_count": null,
      "outputs": []
    }
  ]
}